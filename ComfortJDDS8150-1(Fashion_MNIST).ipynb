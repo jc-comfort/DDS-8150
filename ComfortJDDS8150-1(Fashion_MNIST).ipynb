{
  "cells": [
    {
      "cell_type": "markdown",
      "id": "66ccfc5d-e575-4a84-99d0-f3a33e04c73e",
      "metadata": {
        "id": "66ccfc5d-e575-4a84-99d0-f3a33e04c73e"
      },
      "source": [
        "#  Fashion MNIST Neural Networks and Deep Learning"
      ]
    },
    {
      "cell_type": "markdown",
      "id": "097fea59-08ac-4ee8-99be-4caad5ec27f0",
      "metadata": {
        "id": "097fea59-08ac-4ee8-99be-4caad5ec27f0"
      },
      "source": [
        "## 1.0 Study purpose"
      ]
    },
    {
      "cell_type": "markdown",
      "id": "TUIc_ChjmBMA",
      "metadata": {
        "id": "TUIc_ChjmBMA"
      },
      "source": [
        "Mine fashion data using deep neural networks for deep learning, illustrate how deep learning is the appropriate technique for the application, and make recommendations regarding the selection of parameters for neural networks."
      ]
    },
    {
      "cell_type": "markdown",
      "id": "816221c4-ff84-4408-95a1-82644f316aad",
      "metadata": {
        "id": "816221c4-ff84-4408-95a1-82644f316aad"
      },
      "source": [
        "## 2.0 Data Understanding"
      ]
    },
    {
      "cell_type": "markdown",
      "id": "065f2439-d81b-4a4c-a164-ef02f1d5535f",
      "metadata": {
        "id": "065f2439-d81b-4a4c-a164-ef02f1d5535f"
      },
      "source": [
        "### 2.1 Prelimary data analysis"
      ]
    },
    {
      "cell_type": "markdown",
      "id": "EWAsFD33l16s",
      "metadata": {
        "id": "EWAsFD33l16s"
      },
      "source": [
        "#### 2.1.1 Import libraries"
      ]
    },
    {
      "cell_type": "code",
      "execution_count": 50,
      "id": "bHzhvyWGca31",
      "metadata": {
        "id": "bHzhvyWGca31"
      },
      "outputs": [],
      "source": [
        "import pandas as pd\n",
        "import matplotlib.pyplot as plt\n",
        "import numpy as np\n",
        "import os\n",
        "import warnings\n",
        "import tensorflow as tf\n",
        "\n",
        "%matplotlib inline"
      ]
    },
    {
      "cell_type": "code",
      "execution_count": 51,
      "id": "7Wp7ovjamWf-",
      "metadata": {
        "id": "7Wp7ovjamWf-"
      },
      "outputs": [],
      "source": [
        "from matplotlib import pyplot\n",
        "from keras.datasets import mnist, fashion_mnist, cifar100\n",
        "from keras.models import Sequential\n",
        "from keras.utils import to_categorical, plot_model\n",
        "from keras.layers import Dense , Activation, Dropout, Flatten, Conv2D, MaxPooling2D\n",
        "from keras.constraints import max_norm\n",
        "from keras.optimizers import Adam ,RMSprop\n",
        "from keras import backend as K\n",
        "from subprocess import check_output"
      ]
    },
    {
      "cell_type": "markdown",
      "id": "992e3ae5-d8ba-4a81-985e-378513890492",
      "metadata": {
        "id": "992e3ae5-d8ba-4a81-985e-378513890492"
      },
      "source": [
        "#### 2.1.2 Suppress warnings"
      ]
    },
    {
      "cell_type": "code",
      "execution_count": 52,
      "id": "alownMrNhVFz",
      "metadata": {
        "id": "alownMrNhVFz"
      },
      "outputs": [],
      "source": [
        "warnings.filterwarnings('ignore')"
      ]
    },
    {
      "cell_type": "markdown",
      "id": "01df576b-ec9e-4ca8-9b6a-f2f9f822c4db",
      "metadata": {
        "id": "01df576b-ec9e-4ca8-9b6a-f2f9f822c4db"
      },
      "source": [
        "#### 2.1.3 Data ingestion"
      ]
    },
    {
      "cell_type": "code",
      "execution_count": 53,
      "id": "5aHaGngLmEzh",
      "metadata": {
        "id": "5aHaGngLmEzh"
      },
      "outputs": [],
      "source": [
        "(train_X, train_y), (test_X, test_y) = fashion_mnist.load_data()"
      ]
    },
    {
      "cell_type": "code",
      "execution_count": 54,
      "id": "etaxchhrmAYn",
      "metadata": {
        "colab": {
          "base_uri": "https://localhost:8080/"
        },
        "id": "etaxchhrmAYn",
        "outputId": "f3ff149c-0161-4bf8-a516-85263a3e8b78"
      },
      "outputs": [
        {
          "name": "stdout",
          "output_type": "stream",
          "text": [
            "X_train: (60000, 28, 28)\n",
            "Y_train: (60000,)\n",
            "X_test:  (10000, 28, 28)\n",
            "Y_test:  (10000,)\n"
          ]
        }
      ],
      "source": [
        "print('X_train: ' + str(train_X.shape))\n",
        "print('Y_train: ' + str(train_y.shape))\n",
        "print('X_test:  '  + str(test_X.shape))\n",
        "print('Y_test:  '  + str(test_y.shape))"
      ]
    },
    {
      "cell_type": "markdown",
      "id": "Ka9Bz7p0nGUH",
      "metadata": {
        "id": "Ka9Bz7p0nGUH"
      },
      "source": [
        "#### 2.1.4 Set random seed"
      ]
    },
    {
      "cell_type": "code",
      "execution_count": 55,
      "id": "yfhZmB_ljNVz",
      "metadata": {
        "id": "yfhZmB_ljNVz"
      },
      "outputs": [],
      "source": [
        "np.random.seed(42)"
      ]
    },
    {
      "cell_type": "markdown",
      "id": "l1Psr_qdnRIC",
      "metadata": {
        "id": "l1Psr_qdnRIC"
      },
      "source": [
        "#### 2.1.5 Connect graphics visualization"
      ]
    },
    {
      "cell_type": "code",
      "execution_count": 56,
      "id": "vBzdcVaNnVbB",
      "metadata": {
        "id": "vBzdcVaNnVbB"
      },
      "outputs": [],
      "source": [
        "# os.environ[\"PATH\"] += os.pathsep + r\"C:\\Program Files\\Graphviz\\bin\""
      ]
    },
    {
      "cell_type": "markdown",
      "id": "a821a5fc-3443-43a9-b4e0-152564f36850",
      "metadata": {
        "id": "a821a5fc-3443-43a9-b4e0-152564f36850"
      },
      "source": [
        "### 2.2 Data quality"
      ]
    },
    {
      "cell_type": "markdown",
      "id": "6bf5ae71-b09a-43a4-95cf-0867d7084ee1",
      "metadata": {
        "id": "6bf5ae71-b09a-43a4-95cf-0867d7084ee1"
      },
      "source": [
        "#### 2.2.1 Training data sample images"
      ]
    },
    {
      "cell_type": "code",
      "execution_count": 57,
      "id": "86Znomkjn9Gf",
      "metadata": {
        "colab": {
          "base_uri": "https://localhost:8080/",
          "height": 486
        },
        "id": "86Znomkjn9Gf",
        "outputId": "f57d2fa3-6bb6-43a0-de0b-1d3d1bbcd809"
      },
      "outputs": [
        {
          "data": {
            "image/png": "[encoded data removed]",
            "text/plain": [
              "<Figure size 640x480 with 9 Axes>"
            ]
          },
          "metadata": {},
          "output_type": "display_data"
        }
      ],
      "source": [
        "for i in range(9):\n",
        "    pyplot.subplot(3, 3, i + 1)\n",
        "    pyplot.imshow(train_X[i], cmap=pyplot.get_cmap('gray'))\n",
        "\n",
        "pyplot.tight_layout()\n",
        "pyplot.show()"
      ]
    },
    {
      "cell_type": "markdown",
      "id": "lNeUNHpKjoNS",
      "metadata": {
        "id": "lNeUNHpKjoNS"
      },
      "source": [
        "#### 2.2.2 Training label data counts"
      ]
    },
    {
      "cell_type": "code",
      "execution_count": 58,
      "id": "ZDnCWOWInv3i",
      "metadata": {
        "colab": {
          "base_uri": "https://localhost:8080/"
        },
        "id": "ZDnCWOWInv3i",
        "outputId": "0def0ea7-94dd-4027-f567-0491c2f17f9a"
      },
      "outputs": [
        {
          "name": "stdout",
          "output_type": "stream",
          "text": [
            "Train labels:  {np.uint8(0): np.int64(6000), np.uint8(1): np.int64(6000), np.uint8(2): np.int64(6000), np.uint8(3): np.int64(6000), np.uint8(4): np.int64(6000), np.uint8(5): np.int64(6000), np.uint8(6): np.int64(6000), np.uint8(7): np.int64(6000), np.uint8(8): np.int64(6000), np.uint8(9): np.int64(6000)}\n"
          ]
        }
      ],
      "source": [
        "unique, counts = np.unique(train_y, return_counts=True)\n",
        "print(\"Train labels: \", dict(zip(unique, counts)))"
      ]
    },
    {
      "cell_type": "markdown",
      "id": "GFp4c0BTjt8r",
      "metadata": {
        "id": "GFp4c0BTjt8r"
      },
      "source": [
        "#### 2.2.3 Testing label data counts"
      ]
    },
    {
      "cell_type": "code",
      "execution_count": 59,
      "id": "ygUtr0V2nzBF",
      "metadata": {
        "colab": {
          "base_uri": "https://localhost:8080/"
        },
        "id": "ygUtr0V2nzBF",
        "outputId": "94ad2e0f-4a08-4031-faed-481e17592f19"
      },
      "outputs": [
        {
          "name": "stdout",
          "output_type": "stream",
          "text": [
            "\n",
            "Test labels:  {np.uint8(0): np.int64(1000), np.uint8(1): np.int64(1000), np.uint8(2): np.int64(1000), np.uint8(3): np.int64(1000), np.uint8(4): np.int64(1000), np.uint8(5): np.int64(1000), np.uint8(6): np.int64(1000), np.uint8(7): np.int64(1000), np.uint8(8): np.int64(1000), np.uint8(9): np.int64(1000)}\n"
          ]
        }
      ],
      "source": [
        "unique, counts = np.unique(test_y, return_counts=True)\n",
        "print(\"\\nTest labels: \", dict(zip(unique, counts)))"
      ]
    },
    {
      "cell_type": "markdown",
      "id": "GD6kbaEUn9Sf",
      "metadata": {
        "id": "GD6kbaEUn9Sf"
      },
      "source": [
        "#### 2.2.4 Label descriptions"
      ]
    },
    {
      "cell_type": "markdown",
      "id": "nUa7Nl1ooLLR",
      "metadata": {
        "id": "nUa7Nl1ooLLR"
      },
      "source": [
        "1.\tT-shirt/top\n",
        "2.\tTrouser\n",
        "3.\tPullover\n",
        "4.\tDress\n",
        "5.\tCoat\n",
        "6.\tSandal\n",
        "7.\tShirt\n",
        "8.\tSneaker\n",
        "9.\tBag\n",
        "10.\tAnkle boot"
      ]
    },
    {
      "cell_type": "markdown",
      "id": "_xTda8Uar0bg",
      "metadata": {
        "id": "_xTda8Uar0bg"
      },
      "source": [
        "### 2.3 Exploratory data analysis"
      ]
    },
    {
      "cell_type": "markdown",
      "id": "87e25d4d-b0a0-4c05-93e2-1c69736e860a",
      "metadata": {
        "id": "87e25d4d-b0a0-4c05-93e2-1c69736e860a"
      },
      "source": [
        "## 3.0 Data preprocessing"
      ]
    },
    {
      "cell_type": "markdown",
      "id": "V5ua3mmuoVip",
      "metadata": {
        "id": "V5ua3mmuoVip"
      },
      "source": [
        "### 3.1 Compute the number of labels"
      ]
    },
    {
      "cell_type": "code",
      "execution_count": 60,
      "id": "8vZrPAUgoZSq",
      "metadata": {
        "colab": {
          "base_uri": "https://localhost:8080/"
        },
        "id": "8vZrPAUgoZSq",
        "outputId": "7dc2c0e5-1487-4225-dc24-8206282151be"
      },
      "outputs": [
        {
          "data": {
            "text/plain": [
              "10"
            ]
          },
          "execution_count": 60,
          "metadata": {},
          "output_type": "execute_result"
        }
      ],
      "source": [
        "num_labels = len(np.unique(train_y))\n",
        "num_labels"
      ]
    },
    {
      "cell_type": "markdown",
      "id": "i0h_EZrboeyX",
      "metadata": {
        "id": "i0h_EZrboeyX"
      },
      "source": [
        "### 3.2 Encode output data"
      ]
    },
    {
      "cell_type": "code",
      "execution_count": 61,
      "id": "Jpsh4b3_olkT",
      "metadata": {
        "id": "Jpsh4b3_olkT"
      },
      "outputs": [],
      "source": [
        "train_y = to_categorical(train_y)\n",
        "test_y = to_categorical(test_y)"
      ]
    },
    {
      "cell_type": "markdown",
      "id": "R4ocNP_so-ft",
      "metadata": {
        "id": "R4ocNP_so-ft"
      },
      "source": [
        "### 3.3 Image dimensions"
      ]
    },
    {
      "cell_type": "code",
      "execution_count": 62,
      "id": "rohFsqMGpCj1",
      "metadata": {
        "colab": {
          "base_uri": "https://localhost:8080/"
        },
        "id": "rohFsqMGpCj1",
        "outputId": "731c29aa-6453-4b27-b281-f8b37d6cc335"
      },
      "outputs": [
        {
          "data": {
            "text/plain": [
              "784"
            ]
          },
          "execution_count": 62,
          "metadata": {},
          "output_type": "execute_result"
        }
      ],
      "source": [
        "image_size = train_X.shape[1]\n",
        "input_size = image_size * image_size\n",
        "input_size"
      ]
    },
    {
      "cell_type": "code",
      "execution_count": 63,
      "id": "iu0BJ9M3pOEq",
      "metadata": {
        "id": "iu0BJ9M3pOEq"
      },
      "outputs": [],
      "source": [
        "train_X = np.expand_dims(train_X, axis=-1)"
      ]
    },
    {
      "cell_type": "markdown",
      "id": "MGoQtug3pYVV",
      "metadata": {
        "id": "MGoQtug3pYVV"
      },
      "source": [
        "### 3.4 Number of classes"
      ]
    },
    {
      "cell_type": "code",
      "execution_count": 64,
      "id": "YmvzldbSpcto",
      "metadata": {
        "id": "YmvzldbSpcto"
      },
      "outputs": [],
      "source": [
        "num_classes = test_y.shape[1]"
      ]
    },
    {
      "cell_type": "markdown",
      "id": "s4nSLQdRpnu5",
      "metadata": {
        "id": "s4nSLQdRpnu5"
      },
      "source": [
        "### 3.5 Resize and normalize data"
      ]
    },
    {
      "cell_type": "markdown",
      "id": "gWpb0K-Fpz5d",
      "metadata": {
        "id": "gWpb0K-Fpz5d"
      },
      "source": [
        "#### 3.5.1 Training data"
      ]
    },
    {
      "cell_type": "code",
      "execution_count": 65,
      "id": "xjPQM5-np9ky",
      "metadata": {
        "id": "xjPQM5-np9ky"
      },
      "outputs": [],
      "source": [
        "train_X1 = np.reshape(train_X, [-1, input_size])\n",
        "train_X1 = train_X1.astype('float32') / 255\n",
        "train_X = train_X.astype('float32') / 255"
      ]
    },
    {
      "cell_type": "code",
      "execution_count": 66,
      "id": "2IYisG8hqBEn",
      "metadata": {
        "colab": {
          "base_uri": "https://localhost:8080/"
        },
        "id": "2IYisG8hqBEn",
        "outputId": "49973925-153e-4f73-db7b-68685f377db7"
      },
      "outputs": [
        {
          "name": "stdout",
          "output_type": "stream",
          "text": [
            "X1_train: (60000, 784)\n",
            "X_train: (60000, 28, 28, 1)\n",
            "Y_train: (60000, 10)\n"
          ]
        }
      ],
      "source": [
        "print('X1_train: ' + str(train_X1.shape))\n",
        "print('X_train: ' + str(train_X.shape))\n",
        "print('Y_train: ' + str(train_y.shape))"
      ]
    },
    {
      "cell_type": "markdown",
      "id": "yYmU96jup7Fb",
      "metadata": {
        "id": "yYmU96jup7Fb"
      },
      "source": [
        "#### 3.5.2 Testing data"
      ]
    },
    {
      "cell_type": "code",
      "execution_count": 67,
      "id": "7fFnhUpKqWFf",
      "metadata": {
        "id": "7fFnhUpKqWFf"
      },
      "outputs": [],
      "source": [
        "test_X1 = np.reshape(test_X, [-1, input_size])\n",
        "test_X1 = test_X1.astype('float32') / 255\n",
        "test_X = test_X.astype('float32') / 255"
      ]
    },
    {
      "cell_type": "code",
      "execution_count": 68,
      "id": "mdiFCTAtqZEv",
      "metadata": {
        "colab": {
          "base_uri": "https://localhost:8080/"
        },
        "id": "mdiFCTAtqZEv",
        "outputId": "273f1d06-b306-4bdb-d55b-27be9b29686b"
      },
      "outputs": [
        {
          "name": "stdout",
          "output_type": "stream",
          "text": [
            "X1_test:  (10000, 784)\n",
            "X_test:  (10000, 28, 28)\n",
            "Y_test:  (10000, 10)\n"
          ]
        }
      ],
      "source": [
        "print('X1_test:  '  + str(test_X1.shape))\n",
        "print('X_test:  '  + str(test_X.shape))\n",
        "print('Y_test:  '  + str(test_y.shape))"
      ]
    },
    {
      "cell_type": "markdown",
      "id": "fLeS4LDaINCP",
      "metadata": {
        "id": "fLeS4LDaINCP"
      },
      "source": [
        "### 4.0 Modeling"
      ]
    },
    {
      "cell_type": "markdown",
      "id": "yRVvuH2OrToX",
      "metadata": {
        "id": "yRVvuH2OrToX"
      },
      "source": [
        "### 4.1 Batch size for neural network model"
      ]
    },
    {
      "cell_type": "code",
      "execution_count": 69,
      "id": "GSNg75p_qjBW",
      "metadata": {
        "id": "GSNg75p_qjBW"
      },
      "outputs": [],
      "source": [
        "batch_size = 128\n",
        "input_dim = 784\n",
        "epochs = 20"
      ]
    },
    {
      "cell_type": "markdown",
      "id": "xW9ssYG2qqVb",
      "metadata": {
        "id": "xW9ssYG2qqVb"
      },
      "source": [
        "### 4.2 Configure the neural network model"
      ]
    },
    {
      "cell_type": "code",
      "execution_count": 70,
      "id": "LuMPd56pzTl_",
      "metadata": {
        "id": "LuMPd56pzTl_"
      },
      "outputs": [],
      "source": [
        "def build_mlp(input_dim, num_classes, dropout_rates=[0.5, 0.3, 0.2]):\n",
        "    model = Sequential()\n",
        "    model.add(Dense(512, input_shape=(input_dim,), activation='relu', kernel_constraint=max_norm(3)))\n",
        "    model.add(Dropout(dropout_rates[0]))\n",
        "    model.add(Dense(256, activation='relu', kernel_constraint=max_norm(3)))\n",
        "    model.add(Dropout(dropout_rates[1]))\n",
        "    model.add(Dense(128, activation='relu', kernel_constraint=max_norm(3)))\n",
        "    model.add(Dropout(dropout_rates[2]))\n",
        "    model.add(Dense(num_classes, activation='softmax'))\n",
        "    return model"
      ]
    },
    {
      "cell_type": "code",
      "execution_count": 71,
      "id": "I2Tky9kv0IQB",
      "metadata": {
        "id": "I2Tky9kv0IQB"
      },
      "outputs": [],
      "source": [
        "model = build_mlp(input_dim=input_dim, num_classes=num_classes)"
      ]
    },
    {
      "cell_type": "code",
      "execution_count": 73,
      "id": "BuMWEsnjsTeF",
      "metadata": {
        "colab": {
          "base_uri": "https://localhost:8080/",
          "height": 381
        },
        "id": "BuMWEsnjsTeF",
        "outputId": "730ae686-5e02-493c-90bb-843bcc13c62d"
      },
      "outputs": [
        {
          "data": {
            "text/html": [
              "<pre style=\"white-space:pre;overflow-x:auto;line-height:normal;font-family:Menlo,'DejaVu Sans Mono',consolas,'Courier New',monospace\"><span style=\"font-weight: bold\">Model: \"sequential_4\"</span>\n",
              "</pre>\n"
            ],
            "text/plain": [
              "\u001b[1mModel: \"sequential_4\"\u001b[0m\n"
            ]
          },
          "metadata": {},
          "output_type": "display_data"
        },
        {
          "data": {
            "text/html": [
              "<pre style=\"white-space:pre;overflow-x:auto;line-height:normal;font-family:Menlo,'DejaVu Sans Mono',consolas,'Courier New',monospace\">┏━━━━━━━━━━━━━━━━━━━━━━━━━━━━━━━━━┳━━━━━━━━━━━━━━━━━━━━━━━━┳━━━━━━━━━━━━━━━┓\n",
              "┃<span style=\"font-weight: bold\"> Layer (type)                    </span>┃<span style=\"font-weight: bold\"> Output Shape           </span>┃<span style=\"font-weight: bold\">       Param # </span>┃\n",
              "┡━━━━━━━━━━━━━━━━━━━━━━━━━━━━━━━━━╇━━━━━━━━━━━━━━━━━━━━━━━━╇━━━━━━━━━━━━━━━┩\n",
              "│ dense_12 (<span style=\"color: #0087ff; text-decoration-color: #0087ff\">Dense</span>)                │ (<span style=\"color: #00d7ff; text-decoration-color: #00d7ff\">None</span>, <span style=\"color: #00af00; text-decoration-color: #00af00\">512</span>)            │       <span style=\"color: #00af00; text-decoration-color: #00af00\">401,920</span> │\n",
              "├─────────────────────────────────┼────────────────────────┼───────────────┤\n",
              "│ dropout_9 (<span style=\"color: #0087ff; text-decoration-color: #0087ff\">Dropout</span>)             │ (<span style=\"color: #00d7ff; text-decoration-color: #00d7ff\">None</span>, <span style=\"color: #00af00; text-decoration-color: #00af00\">512</span>)            │             <span style=\"color: #00af00; text-decoration-color: #00af00\">0</span> │\n",
              "├─────────────────────────────────┼────────────────────────┼───────────────┤\n",
              "│ dense_13 (<span style=\"color: #0087ff; text-decoration-color: #0087ff\">Dense</span>)                │ (<span style=\"color: #00d7ff; text-decoration-color: #00d7ff\">None</span>, <span style=\"color: #00af00; text-decoration-color: #00af00\">256</span>)            │       <span style=\"color: #00af00; text-decoration-color: #00af00\">131,328</span> │\n",
              "├─────────────────────────────────┼────────────────────────┼───────────────┤\n",
              "│ dropout_10 (<span style=\"color: #0087ff; text-decoration-color: #0087ff\">Dropout</span>)            │ (<span style=\"color: #00d7ff; text-decoration-color: #00d7ff\">None</span>, <span style=\"color: #00af00; text-decoration-color: #00af00\">256</span>)            │             <span style=\"color: #00af00; text-decoration-color: #00af00\">0</span> │\n",
              "├─────────────────────────────────┼────────────────────────┼───────────────┤\n",
              "│ dense_14 (<span style=\"color: #0087ff; text-decoration-color: #0087ff\">Dense</span>)                │ (<span style=\"color: #00d7ff; text-decoration-color: #00d7ff\">None</span>, <span style=\"color: #00af00; text-decoration-color: #00af00\">128</span>)            │        <span style=\"color: #00af00; text-decoration-color: #00af00\">32,896</span> │\n",
              "├─────────────────────────────────┼────────────────────────┼───────────────┤\n",
              "│ dropout_11 (<span style=\"color: #0087ff; text-decoration-color: #0087ff\">Dropout</span>)            │ (<span style=\"color: #00d7ff; text-decoration-color: #00d7ff\">None</span>, <span style=\"color: #00af00; text-decoration-color: #00af00\">128</span>)            │             <span style=\"color: #00af00; text-decoration-color: #00af00\">0</span> │\n",
              "├─────────────────────────────────┼────────────────────────┼───────────────┤\n",
              "│ dense_15 (<span style=\"color: #0087ff; text-decoration-color: #0087ff\">Dense</span>)                │ (<span style=\"color: #00d7ff; text-decoration-color: #00d7ff\">None</span>, <span style=\"color: #00af00; text-decoration-color: #00af00\">10</span>)             │         <span style=\"color: #00af00; text-decoration-color: #00af00\">1,290</span> │\n",
              "└─────────────────────────────────┴────────────────────────┴───────────────┘\n",
              "</pre>\n"
            ],
            "text/plain": [
              "┏━━━━━━━━━━━━━━━━━━━━━━━━━━━━━━━━━┳━━━━━━━━━━━━━━━━━━━━━━━━┳━━━━━━━━━━━━━━━┓\n",
              "┃\u001b[1m \u001b[0m\u001b[1mLayer (type)                   \u001b[0m\u001b[1m \u001b[0m┃\u001b[1m \u001b[0m\u001b[1mOutput Shape          \u001b[0m\u001b[1m \u001b[0m┃\u001b[1m \u001b[0m\u001b[1m      Param #\u001b[0m\u001b[1m \u001b[0m┃\n",
              "┡━━━━━━━━━━━━━━━━━━━━━━━━━━━━━━━━━╇━━━━━━━━━━━━━━━━━━━━━━━━╇━━━━━━━━━━━━━━━┩\n",
              "│ dense_12 (\u001b[38;5;33mDense\u001b[0m)                │ (\u001b[38;5;45mNone\u001b[0m, \u001b[38;5;34m512\u001b[0m)            │       \u001b[38;5;34m401,920\u001b[0m │\n",
              "├─────────────────────────────────┼────────────────────────┼───────────────┤\n",
              "│ dropout_9 (\u001b[38;5;33mDropout\u001b[0m)             │ (\u001b[38;5;45mNone\u001b[0m, \u001b[38;5;34m512\u001b[0m)            │             \u001b[38;5;34m0\u001b[0m │\n",
              "├─────────────────────────────────┼────────────────────────┼───────────────┤\n",
              "│ dense_13 (\u001b[38;5;33mDense\u001b[0m)                │ (\u001b[38;5;45mNone\u001b[0m, \u001b[38;5;34m256\u001b[0m)            │       \u001b[38;5;34m131,328\u001b[0m │\n",
              "├─────────────────────────────────┼────────────────────────┼───────────────┤\n",
              "│ dropout_10 (\u001b[38;5;33mDropout\u001b[0m)            │ (\u001b[38;5;45mNone\u001b[0m, \u001b[38;5;34m256\u001b[0m)            │             \u001b[38;5;34m0\u001b[0m │\n",
              "├─────────────────────────────────┼────────────────────────┼───────────────┤\n",
              "│ dense_14 (\u001b[38;5;33mDense\u001b[0m)                │ (\u001b[38;5;45mNone\u001b[0m, \u001b[38;5;34m128\u001b[0m)            │        \u001b[38;5;34m32,896\u001b[0m │\n",
              "├─────────────────────────────────┼────────────────────────┼───────────────┤\n",
              "│ dropout_11 (\u001b[38;5;33mDropout\u001b[0m)            │ (\u001b[38;5;45mNone\u001b[0m, \u001b[38;5;34m128\u001b[0m)            │             \u001b[38;5;34m0\u001b[0m │\n",
              "├─────────────────────────────────┼────────────────────────┼───────────────┤\n",
              "│ dense_15 (\u001b[38;5;33mDense\u001b[0m)                │ (\u001b[38;5;45mNone\u001b[0m, \u001b[38;5;34m10\u001b[0m)             │         \u001b[38;5;34m1,290\u001b[0m │\n",
              "└─────────────────────────────────┴────────────────────────┴───────────────┘\n"
            ]
          },
          "metadata": {},
          "output_type": "display_data"
        },
        {
          "data": {
            "text/html": [
              "<pre style=\"white-space:pre;overflow-x:auto;line-height:normal;font-family:Menlo,'DejaVu Sans Mono',consolas,'Courier New',monospace\"><span style=\"font-weight: bold\"> Total params: </span><span style=\"color: #00af00; text-decoration-color: #00af00\">567,434</span> (2.16 MB)\n",
              "</pre>\n"
            ],
            "text/plain": [
              "\u001b[1m Total params: \u001b[0m\u001b[38;5;34m567,434\u001b[0m (2.16 MB)\n"
            ]
          },
          "metadata": {},
          "output_type": "display_data"
        },
        {
          "data": {
            "text/html": [
              "<pre style=\"white-space:pre;overflow-x:auto;line-height:normal;font-family:Menlo,'DejaVu Sans Mono',consolas,'Courier New',monospace\"><span style=\"font-weight: bold\"> Trainable params: </span><span style=\"color: #00af00; text-decoration-color: #00af00\">567,434</span> (2.16 MB)\n",
              "</pre>\n"
            ],
            "text/plain": [
              "\u001b[1m Trainable params: \u001b[0m\u001b[38;5;34m567,434\u001b[0m (2.16 MB)\n"
            ]
          },
          "metadata": {},
          "output_type": "display_data"
        },
        {
          "data": {
            "text/html": [
              "<pre style=\"white-space:pre;overflow-x:auto;line-height:normal;font-family:Menlo,'DejaVu Sans Mono',consolas,'Courier New',monospace\"><span style=\"font-weight: bold\"> Non-trainable params: </span><span style=\"color: #00af00; text-decoration-color: #00af00\">0</span> (0.00 B)\n",
              "</pre>\n"
            ],
            "text/plain": [
              "\u001b[1m Non-trainable params: \u001b[0m\u001b[38;5;34m0\u001b[0m (0.00 B)\n"
            ]
          },
          "metadata": {},
          "output_type": "display_data"
        }
      ],
      "source": [
        "model.summary()"
      ]
    },
    {
      "cell_type": "code",
      "execution_count": 74,
      "id": "S6M0FzT-sdnd",
      "metadata": {
        "colab": {
          "base_uri": "https://localhost:8080/",
          "height": 964
        },
        "id": "S6M0FzT-sdnd",
        "outputId": "b0f7aa82-5247-457d-dc46-4777ea8bf143"
      },
      "outputs": [
        {
          "data": {
            "image/png": "[encoded data removed]",
            "text/plain": [
              "<IPython.core.display.Image object>"
            ]
          },
          "execution_count": 74,
          "metadata": {},
          "output_type": "execute_result"
        }
      ],
      "source": [
        "plot_model(model, to_file='mlp-fashion-mnist-deep.png', show_shapes=True, dpi=84)"
      ]
    },
    {
      "cell_type": "markdown",
      "id": "nhKhJxhPrF0j",
      "metadata": {
        "id": "nhKhJxhPrF0j"
      },
      "source": [
        "### 4.3 Compile the neural network model"
      ]
    },
    {
      "cell_type": "code",
      "execution_count": 75,
      "id": "5Seagk6bsuaO",
      "metadata": {
        "id": "5Seagk6bsuaO"
      },
      "outputs": [],
      "source": [
        "model.compile(loss='categorical_crossentropy',\n",
        "              optimizer='adam',\n",
        "              metrics=['accuracy'])"
      ]
    },
    {
      "cell_type": "markdown",
      "id": "MwpW1hocswti",
      "metadata": {
        "id": "MwpW1hocswti"
      },
      "source": [
        "### 4.4 Fit the neural network model"
      ]
    },
    {
      "cell_type": "code",
      "execution_count": 76,
      "id": "LzXx1qFatFIA",
      "metadata": {
        "colab": {
          "base_uri": "https://localhost:8080/"
        },
        "id": "LzXx1qFatFIA",
        "outputId": "016bb118-8dfb-4f98-bda6-85c649d8c85b"
      },
      "outputs": [
        {
          "name": "stdout",
          "output_type": "stream",
          "text": [
            "Epoch 1/20\n",
            "\u001b[1m375/375\u001b[0m \u001b[32m━━━━━━━━━━━━━━━━━━━━\u001b[0m\u001b[37m\u001b[0m \u001b[1m9s\u001b[0m 18ms/step - accuracy: 0.6499 - loss: 0.9554 - val_accuracy: 0.8317 - val_loss: 0.4558\n",
            "Epoch 2/20\n",
            "\u001b[1m375/375\u001b[0m \u001b[32m━━━━━━━━━━━━━━━━━━━━\u001b[0m\u001b[37m\u001b[0m \u001b[1m6s\u001b[0m 16ms/step - accuracy: 0.8195 - loss: 0.5045 - val_accuracy: 0.8545 - val_loss: 0.4054\n",
            "Epoch 3/20\n",
            "\u001b[1m375/375\u001b[0m \u001b[32m━━━━━━━━━━━━━━━━━━━━\u001b[0m\u001b[37m\u001b[0m \u001b[1m7s\u001b[0m 17ms/step - accuracy: 0.8365 - loss: 0.4559 - val_accuracy: 0.8585 - val_loss: 0.3829\n",
            "Epoch 4/20\n",
            "\u001b[1m375/375\u001b[0m \u001b[32m━━━━━━━━━━━━━━━━━━━━\u001b[0m\u001b[37m\u001b[0m \u001b[1m6s\u001b[0m 17ms/step - accuracy: 0.8472 - loss: 0.4195 - val_accuracy: 0.8652 - val_loss: 0.3656\n",
            "Epoch 5/20\n",
            "\u001b[1m375/375\u001b[0m \u001b[32m━━━━━━━━━━━━━━━━━━━━\u001b[0m\u001b[37m\u001b[0m \u001b[1m10s\u001b[0m 16ms/step - accuracy: 0.8544 - loss: 0.3991 - val_accuracy: 0.8737 - val_loss: 0.3562\n",
            "Epoch 6/20\n",
            "\u001b[1m375/375\u001b[0m \u001b[32m━━━━━━━━━━━━━━━━━━━━\u001b[0m\u001b[37m\u001b[0m \u001b[1m10s\u001b[0m 16ms/step - accuracy: 0.8597 - loss: 0.3815 - val_accuracy: 0.8740 - val_loss: 0.3454\n",
            "Epoch 7/20\n",
            "\u001b[1m375/375\u001b[0m \u001b[32m━━━━━━━━━━━━━━━━━━━━\u001b[0m\u001b[37m\u001b[0m \u001b[1m10s\u001b[0m 16ms/step - accuracy: 0.8590 - loss: 0.3802 - val_accuracy: 0.8755 - val_loss: 0.3342\n",
            "Epoch 8/20\n",
            "\u001b[1m375/375\u001b[0m \u001b[32m━━━━━━━━━━━━━━━━━━━━\u001b[0m\u001b[37m\u001b[0m \u001b[1m11s\u001b[0m 17ms/step - accuracy: 0.8652 - loss: 0.3637 - val_accuracy: 0.8783 - val_loss: 0.3376\n",
            "Epoch 9/20\n",
            "\u001b[1m375/375\u001b[0m \u001b[32m━━━━━━━━━━━━━━━━━━━━\u001b[0m\u001b[37m\u001b[0m \u001b[1m11s\u001b[0m 18ms/step - accuracy: 0.8678 - loss: 0.3583 - val_accuracy: 0.8773 - val_loss: 0.3344\n",
            "Epoch 10/20\n",
            "\u001b[1m375/375\u001b[0m \u001b[32m━━━━━━━━━━━━━━━━━━━━\u001b[0m\u001b[37m\u001b[0m \u001b[1m6s\u001b[0m 16ms/step - accuracy: 0.8689 - loss: 0.3577 - val_accuracy: 0.8789 - val_loss: 0.3271\n",
            "Epoch 11/20\n",
            "\u001b[1m375/375\u001b[0m \u001b[32m━━━━━━━━━━━━━━━━━━━━\u001b[0m\u001b[37m\u001b[0m \u001b[1m10s\u001b[0m 16ms/step - accuracy: 0.8724 - loss: 0.3520 - val_accuracy: 0.8792 - val_loss: 0.3363\n",
            "Epoch 12/20\n",
            "\u001b[1m375/375\u001b[0m \u001b[32m━━━━━━━━━━━━━━━━━━━━\u001b[0m\u001b[37m\u001b[0m \u001b[1m7s\u001b[0m 18ms/step - accuracy: 0.8738 - loss: 0.3434 - val_accuracy: 0.8846 - val_loss: 0.3244\n",
            "Epoch 13/20\n",
            "\u001b[1m375/375\u001b[0m \u001b[32m━━━━━━━━━━━━━━━━━━━━\u001b[0m\u001b[37m\u001b[0m \u001b[1m9s\u001b[0m 16ms/step - accuracy: 0.8788 - loss: 0.3291 - val_accuracy: 0.8820 - val_loss: 0.3181\n",
            "Epoch 14/20\n",
            "\u001b[1m375/375\u001b[0m \u001b[32m━━━━━━━━━━━━━━━━━━━━\u001b[0m\u001b[37m\u001b[0m \u001b[1m10s\u001b[0m 16ms/step - accuracy: 0.8784 - loss: 0.3293 - val_accuracy: 0.8825 - val_loss: 0.3341\n",
            "Epoch 15/20\n",
            "\u001b[1m375/375\u001b[0m \u001b[32m━━━━━━━━━━━━━━━━━━━━\u001b[0m\u001b[37m\u001b[0m \u001b[1m7s\u001b[0m 18ms/step - accuracy: 0.8795 - loss: 0.3253 - val_accuracy: 0.8852 - val_loss: 0.3192\n",
            "Epoch 16/20\n",
            "\u001b[1m375/375\u001b[0m \u001b[32m━━━━━━━━━━━━━━━━━━━━\u001b[0m\u001b[37m\u001b[0m \u001b[1m10s\u001b[0m 18ms/step - accuracy: 0.8835 - loss: 0.3175 - val_accuracy: 0.8859 - val_loss: 0.3095\n",
            "Epoch 17/20\n",
            "\u001b[1m375/375\u001b[0m \u001b[32m━━━━━━━━━━━━━━━━━━━━\u001b[0m\u001b[37m\u001b[0m \u001b[1m6s\u001b[0m 16ms/step - accuracy: 0.8870 - loss: 0.3103 - val_accuracy: 0.8838 - val_loss: 0.3146\n",
            "Epoch 18/20\n",
            "\u001b[1m375/375\u001b[0m \u001b[32m━━━━━━━━━━━━━━━━━━━━\u001b[0m\u001b[37m\u001b[0m \u001b[1m11s\u001b[0m 17ms/step - accuracy: 0.8841 - loss: 0.3109 - val_accuracy: 0.8850 - val_loss: 0.3188\n",
            "Epoch 19/20\n",
            "\u001b[1m375/375\u001b[0m \u001b[32m━━━━━━━━━━━━━━━━━━━━\u001b[0m\u001b[37m\u001b[0m \u001b[1m11s\u001b[0m 18ms/step - accuracy: 0.8810 - loss: 0.3217 - val_accuracy: 0.8878 - val_loss: 0.3146\n",
            "Epoch 20/20\n",
            "\u001b[1m375/375\u001b[0m \u001b[32m━━━━━━━━━━━━━━━━━━━━\u001b[0m\u001b[37m\u001b[0m \u001b[1m6s\u001b[0m 16ms/step - accuracy: 0.8855 - loss: 0.3072 - val_accuracy: 0.8878 - val_loss: 0.3061\n"
          ]
        }
      ],
      "source": [
        "history = model.fit(train_X1, train_y, epochs=epochs, batch_size=batch_size, validation_split=0.2)"
      ]
    },
    {
      "cell_type": "markdown",
      "id": "c2c8e434-cb5a-45df-886e-7155311952ae",
      "metadata": {
        "id": "c2c8e434-cb5a-45df-886e-7155311952ae"
      },
      "source": [
        "## 5.0 Evaluation"
      ]
    },
    {
      "cell_type": "code",
      "execution_count": 77,
      "id": "P4ngmd7BtaKQ",
      "metadata": {
        "colab": {
          "base_uri": "https://localhost:8080/"
        },
        "id": "P4ngmd7BtaKQ",
        "outputId": "a3c4cf65-fba2-4c1f-f1f3-171a1fd79625"
      },
      "outputs": [
        {
          "name": "stdout",
          "output_type": "stream",
          "text": [
            "\u001b[1m79/79\u001b[0m \u001b[32m━━━━━━━━━━━━━━━━━━━━\u001b[0m\u001b[37m\u001b[0m \u001b[1m0s\u001b[0m 5ms/step - accuracy: 0.8831 - loss: 0.3268\n",
            "\n",
            "Test accuracy: 88.2%\n"
          ]
        }
      ],
      "source": [
        "loss, acc = model.evaluate(test_X1, test_y, batch_size=batch_size)\n",
        "print(\"\\nTest accuracy: %.1f%%\" % (100.0 * acc))"
      ]
    },
    {
      "cell_type": "code",
      "execution_count": 78,
      "id": "9qxUP3kix7LW",
      "metadata": {
        "colab": {
          "base_uri": "https://localhost:8080/",
          "height": 472
        },
        "id": "9qxUP3kix7LW",
        "outputId": "3da01763-f83c-4941-df68-82f2d61d7b3d"
      },
      "outputs": [
        {
          "data": {
            "image/png": "[encoded data removed]",
            "text/plain": [
              "<Figure size 640x480 with 1 Axes>"
            ]
          },
          "metadata": {},
          "output_type": "display_data"
        }
      ],
      "source": [
        "plt.plot(history.history['accuracy'])\n",
        "plt.plot(history.history['val_accuracy'])\n",
        "plt.title('Model Accuracy')\n",
        "plt.xlabel('Epoch')\n",
        "plt.ylabel('Accuracy')\n",
        "plt.legend(['Train','Test'],loc='upper left')\n",
        "plt.show()"
      ]
    },
    {
      "cell_type": "code",
      "execution_count": 79,
      "id": "b9yGvBQnx_b4",
      "metadata": {
        "colab": {
          "base_uri": "https://localhost:8080/",
          "height": 472
        },
        "id": "b9yGvBQnx_b4",
        "outputId": "aba2e613-06a7-4b1f-caf4-e09824799ecb"
      },
      "outputs": [
        {
          "data": {
            "image/png": "[encoded data removed]",
            "text/plain": [
              "<Figure size 640x480 with 1 Axes>"
            ]
          },
          "metadata": {},
          "output_type": "display_data"
        }
      ],
      "source": [
        "plt.plot(history.history['loss'])\n",
        "plt.plot(history.history['val_loss'])\n",
        "plt.title('Model Loss')\n",
        "plt.xlabel('Epoch')\n",
        "plt.ylabel('Loss')\n",
        "plt.legend(['Train','Test'],loc='upper right')\n",
        "plt.show()"
      ]
    },
    {
      "cell_type": "markdown",
      "id": "1413d4ee-7226-4635-a145-696c89266523",
      "metadata": {
        "id": "1413d4ee-7226-4635-a145-696c89266523"
      },
      "source": [
        "## 6.0 Deployment"
      ]
    },
    {
      "cell_type": "code",
      "execution_count": 80,
      "id": "s0e0s38MhYce",
      "metadata": {
        "id": "s0e0s38MhYce"
      },
      "outputs": [],
      "source": []
    }
  ],
  "metadata": {
    "colab": {
      "provenance": []
    },
    "kernelspec": {
      "display_name": "Python 3 (ipykernel)",
      "language": "python",
      "name": "python3"
    },
    "language_info": {
      "codemirror_mode": {
        "name": "ipython",
        "version": 3
      },
      "file_extension": ".py",
      "mimetype": "text/x-python",
      "name": "python",
      "nbconvert_exporter": "python",
      "pygments_lexer": "ipython3",
      "version": "3.12.3"
    }
  },
  "nbformat": 4,
  "nbformat_minor": 5
}
