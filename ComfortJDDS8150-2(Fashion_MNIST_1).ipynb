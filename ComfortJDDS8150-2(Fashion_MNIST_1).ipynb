{
  "cells": [
    {
      "cell_type": "markdown",
      "id": "66ccfc5d-e575-4a84-99d0-f3a33e04c73e",
      "metadata": {
        "id": "66ccfc5d-e575-4a84-99d0-f3a33e04c73e"
      },
      "source": [
        "#  Fashion MNIST Autoencoder"
      ]
    },
    {
      "cell_type": "markdown",
      "id": "097fea59-08ac-4ee8-99be-4caad5ec27f0",
      "metadata": {
        "id": "097fea59-08ac-4ee8-99be-4caad5ec27f0"
      },
      "source": [
        "## 1.0 Study purpose"
      ]
    },
    {
      "cell_type": "markdown",
      "id": "TUIc_ChjmBMA",
      "metadata": {
        "id": "TUIc_ChjmBMA"
      },
      "source": [
        "* Build and train an autoencoder for the Fashion MNIST dataset.\n",
        "* Compress the images into a lower-dimensional representation.\n",
        "* Reconstruct the original images from the compressed representations.\n",
        "* Monitor the reconstruction loss during training.\n",
        "* Evaluate performance by visualizing reconstructed images."
      ]
    },
    {
      "cell_type": "markdown",
      "id": "816221c4-ff84-4408-95a1-82644f316aad",
      "metadata": {
        "id": "816221c4-ff84-4408-95a1-82644f316aad"
      },
      "source": [
        "## 2.0 Data Understanding"
      ]
    },
    {
      "cell_type": "markdown",
      "id": "065f2439-d81b-4a4c-a164-ef02f1d5535f",
      "metadata": {
        "id": "065f2439-d81b-4a4c-a164-ef02f1d5535f"
      },
      "source": [
        "### 2.1 Prelimary data analysis"
      ]
    },
    {
      "cell_type": "markdown",
      "id": "EWAsFD33l16s",
      "metadata": {
        "id": "EWAsFD33l16s"
      },
      "source": [
        "#### 2.1.1 Import libraries"
      ]
    },
    {
      "cell_type": "code",
      "execution_count": 70,
      "id": "bHzhvyWGca31",
      "metadata": {
        "id": "bHzhvyWGca31"
      },
      "outputs": [],
      "source": [
        "import pandas as pd\n",
        "import matplotlib.pyplot as plt\n",
        "import numpy as np\n",
        "import os\n",
        "import warnings\n",
        "import tensorflow as tf\n",
        "\n",
        "%matplotlib inline"
      ]
    },
    {
      "cell_type": "code",
      "execution_count": 71,
      "id": "7Wp7ovjamWf-",
      "metadata": {
        "id": "7Wp7ovjamWf-"
      },
      "outputs": [],
      "source": [
        "from matplotlib import pyplot\n",
        "from keras.datasets import mnist, fashion_mnist, cifar100\n",
        "from keras.models import Model\n",
        "from keras.utils import to_categorical, plot_model\n",
        "from keras.layers import Input, Dense , Activation, Dropout, Flatten, Conv2D, MaxPooling2D\n",
        "from keras.constraints import max_norm\n",
        "from keras.optimizers import Adam ,RMSprop\n",
        "from keras import backend as K\n",
        "from subprocess import check_output"
      ]
    },
    {
      "cell_type": "markdown",
      "id": "992e3ae5-d8ba-4a81-985e-378513890492",
      "metadata": {
        "id": "992e3ae5-d8ba-4a81-985e-378513890492"
      },
      "source": [
        "#### 2.1.2 Suppress warnings"
      ]
    },
    {
      "cell_type": "code",
      "execution_count": 72,
      "id": "alownMrNhVFz",
      "metadata": {
        "id": "alownMrNhVFz"
      },
      "outputs": [],
      "source": [
        "warnings.filterwarnings('ignore')"
      ]
    },
    {
      "cell_type": "markdown",
      "id": "01df576b-ec9e-4ca8-9b6a-f2f9f822c4db",
      "metadata": {
        "id": "01df576b-ec9e-4ca8-9b6a-f2f9f822c4db"
      },
      "source": [
        "#### 2.1.3 Data ingestion"
      ]
    },
    {
      "cell_type": "code",
      "execution_count": 73,
      "id": "5aHaGngLmEzh",
      "metadata": {
        "id": "5aHaGngLmEzh"
      },
      "outputs": [],
      "source": [
        "(train_X, train_y), (test_X, test_y) = fashion_mnist.load_data()"
      ]
    },
    {
      "cell_type": "code",
      "execution_count": 74,
      "id": "etaxchhrmAYn",
      "metadata": {
        "colab": {
          "base_uri": "https://localhost:8080/"
        },
        "id": "etaxchhrmAYn",
        "outputId": "0882a0dc-e7c0-41ad-fe00-458f76a2c9e8"
      },
      "outputs": [
        {
          "name": "stdout",
          "output_type": "stream",
          "text": [
            "X_train: (60000, 28, 28)\n",
            "Y_train: (60000,)\n",
            "X_test:  (10000, 28, 28)\n",
            "Y_test:  (10000,)\n"
          ]
        }
      ],
      "source": [
        "print('X_train: ' + str(train_X.shape))\n",
        "print('Y_train: ' + str(train_y.shape))\n",
        "print('X_test:  '  + str(test_X.shape))\n",
        "print('Y_test:  '  + str(test_y.shape))"
      ]
    },
    {
      "cell_type": "markdown",
      "id": "Ka9Bz7p0nGUH",
      "metadata": {
        "id": "Ka9Bz7p0nGUH"
      },
      "source": [
        "#### 2.1.4 Set random seed"
      ]
    },
    {
      "cell_type": "code",
      "execution_count": 75,
      "id": "yfhZmB_ljNVz",
      "metadata": {
        "id": "yfhZmB_ljNVz"
      },
      "outputs": [],
      "source": [
        "np.random.seed(42)"
      ]
    },
    {
      "cell_type": "markdown",
      "id": "a821a5fc-3443-43a9-b4e0-152564f36850",
      "metadata": {
        "id": "a821a5fc-3443-43a9-b4e0-152564f36850"
      },
      "source": [
        "### 2.2 Data quality"
      ]
    },
    {
      "cell_type": "markdown",
      "id": "6bf5ae71-b09a-43a4-95cf-0867d7084ee1",
      "metadata": {
        "id": "6bf5ae71-b09a-43a4-95cf-0867d7084ee1"
      },
      "source": [
        "#### 2.2.1 Training data sample images"
      ]
    },
    {
      "cell_type": "code",
      "execution_count": 76,
      "id": "86Znomkjn9Gf",
      "metadata": {
        "colab": {
          "base_uri": "https://localhost:8080/",
          "height": 486
        },
        "id": "86Znomkjn9Gf",
        "outputId": "80467685-074b-4839-98c7-f80ad3189772"
      },
      "outputs": [
        {
          "data": {
            "image/png": "[encoded data removed]",
            "text/plain": [
              "<Figure size 640x480 with 9 Axes>"
            ]
          },
          "metadata": {},
          "output_type": "display_data"
        }
      ],
      "source": [
        "for i in range(9):\n",
        "    pyplot.subplot(3, 3, i + 1)\n",
        "    pyplot.imshow(train_X[i], cmap=pyplot.get_cmap('gray'))\n",
        "\n",
        "pyplot.tight_layout()\n",
        "pyplot.show()"
      ]
    },
    {
      "cell_type": "markdown",
      "id": "lNeUNHpKjoNS",
      "metadata": {
        "id": "lNeUNHpKjoNS"
      },
      "source": [
        "#### 2.2.2 Training label data counts"
      ]
    },
    {
      "cell_type": "code",
      "execution_count": 77,
      "id": "ZDnCWOWInv3i",
      "metadata": {
        "colab": {
          "base_uri": "https://localhost:8080/"
        },
        "id": "ZDnCWOWInv3i",
        "outputId": "0d145953-af99-489f-904f-138faa126484"
      },
      "outputs": [
        {
          "name": "stdout",
          "output_type": "stream",
          "text": [
            "Train labels:  {np.uint8(0): np.int64(6000), np.uint8(1): np.int64(6000), np.uint8(2): np.int64(6000), np.uint8(3): np.int64(6000), np.uint8(4): np.int64(6000), np.uint8(5): np.int64(6000), np.uint8(6): np.int64(6000), np.uint8(7): np.int64(6000), np.uint8(8): np.int64(6000), np.uint8(9): np.int64(6000)}\n"
          ]
        }
      ],
      "source": [
        "unique, counts = np.unique(train_y, return_counts=True)\n",
        "print(\"Train labels: \", dict(zip(unique, counts)))"
      ]
    },
    {
      "cell_type": "markdown",
      "id": "GFp4c0BTjt8r",
      "metadata": {
        "id": "GFp4c0BTjt8r"
      },
      "source": [
        "#### 2.2.3 Testing label data counts"
      ]
    },
    {
      "cell_type": "code",
      "execution_count": 78,
      "id": "ygUtr0V2nzBF",
      "metadata": {
        "colab": {
          "base_uri": "https://localhost:8080/"
        },
        "id": "ygUtr0V2nzBF",
        "outputId": "32db6a92-892e-419a-f31a-820a474d0ea4"
      },
      "outputs": [
        {
          "name": "stdout",
          "output_type": "stream",
          "text": [
            "\n",
            "Test labels:  {np.uint8(0): np.int64(1000), np.uint8(1): np.int64(1000), np.uint8(2): np.int64(1000), np.uint8(3): np.int64(1000), np.uint8(4): np.int64(1000), np.uint8(5): np.int64(1000), np.uint8(6): np.int64(1000), np.uint8(7): np.int64(1000), np.uint8(8): np.int64(1000), np.uint8(9): np.int64(1000)}\n"
          ]
        }
      ],
      "source": [
        "unique, counts = np.unique(test_y, return_counts=True)\n",
        "print(\"\\nTest labels: \", dict(zip(unique, counts)))"
      ]
    },
    {
      "cell_type": "markdown",
      "id": "GD6kbaEUn9Sf",
      "metadata": {
        "id": "GD6kbaEUn9Sf"
      },
      "source": [
        "#### 2.2.4 Label descriptions"
      ]
    },
    {
      "cell_type": "markdown",
      "id": "nUa7Nl1ooLLR",
      "metadata": {
        "id": "nUa7Nl1ooLLR"
      },
      "source": [
        "1.\tT-shirt/top\n",
        "2.\tTrouser\n",
        "3.\tPullover\n",
        "4.\tDress\n",
        "5.\tCoat\n",
        "6.\tSandal\n",
        "7.\tShirt\n",
        "8.\tSneaker\n",
        "9.\tBag\n",
        "10.\tAnkle boot"
      ]
    },
    {
      "cell_type": "markdown",
      "id": "_xTda8Uar0bg",
      "metadata": {
        "id": "_xTda8Uar0bg"
      },
      "source": [
        "### 2.3 Exploratory data analysis"
      ]
    },
    {
      "cell_type": "markdown",
      "id": "87e25d4d-b0a0-4c05-93e2-1c69736e860a",
      "metadata": {
        "id": "87e25d4d-b0a0-4c05-93e2-1c69736e860a"
      },
      "source": [
        "## 3.0 Data preprocessing"
      ]
    },
    {
      "cell_type": "markdown",
      "id": "V5ua3mmuoVip",
      "metadata": {
        "id": "V5ua3mmuoVip"
      },
      "source": [
        "### 3.1 Compute the number of labels"
      ]
    },
    {
      "cell_type": "code",
      "execution_count": 79,
      "id": "8vZrPAUgoZSq",
      "metadata": {
        "colab": {
          "base_uri": "https://localhost:8080/"
        },
        "id": "8vZrPAUgoZSq",
        "outputId": "884a1bf1-f7dc-4c83-a6c0-be5cb2d2caa8"
      },
      "outputs": [
        {
          "data": {
            "text/plain": [
              "10"
            ]
          },
          "execution_count": 79,
          "metadata": {},
          "output_type": "execute_result"
        }
      ],
      "source": [
        "num_labels = len(np.unique(train_y))\n",
        "num_labels"
      ]
    },
    {
      "cell_type": "markdown",
      "id": "i0h_EZrboeyX",
      "metadata": {
        "id": "i0h_EZrboeyX"
      },
      "source": [
        "### 3.2 Encode output data"
      ]
    },
    {
      "cell_type": "code",
      "execution_count": 80,
      "id": "Jpsh4b3_olkT",
      "metadata": {
        "id": "Jpsh4b3_olkT"
      },
      "outputs": [],
      "source": [
        "train_y = to_categorical(train_y)\n",
        "test_y = to_categorical(test_y)"
      ]
    },
    {
      "cell_type": "markdown",
      "id": "R4ocNP_so-ft",
      "metadata": {
        "id": "R4ocNP_so-ft"
      },
      "source": [
        "### 3.3 Image dimensions"
      ]
    },
    {
      "cell_type": "code",
      "execution_count": 81,
      "id": "rohFsqMGpCj1",
      "metadata": {
        "colab": {
          "base_uri": "https://localhost:8080/"
        },
        "id": "rohFsqMGpCj1",
        "outputId": "74c691d2-b595-471f-a0be-0098b15461ff"
      },
      "outputs": [
        {
          "data": {
            "text/plain": [
              "784"
            ]
          },
          "execution_count": 81,
          "metadata": {},
          "output_type": "execute_result"
        }
      ],
      "source": [
        "image_size = train_X.shape[1]\n",
        "input_size = image_size * image_size\n",
        "input_size"
      ]
    },
    {
      "cell_type": "code",
      "execution_count": 82,
      "id": "iu0BJ9M3pOEq",
      "metadata": {
        "id": "iu0BJ9M3pOEq"
      },
      "outputs": [],
      "source": [
        "train_X = np.expand_dims(train_X, axis=-1)"
      ]
    },
    {
      "cell_type": "markdown",
      "id": "MGoQtug3pYVV",
      "metadata": {
        "id": "MGoQtug3pYVV"
      },
      "source": [
        "### 3.4 Number of classes"
      ]
    },
    {
      "cell_type": "code",
      "execution_count": 83,
      "id": "YmvzldbSpcto",
      "metadata": {
        "id": "YmvzldbSpcto"
      },
      "outputs": [],
      "source": [
        "num_classes = test_y.shape[1]"
      ]
    },
    {
      "cell_type": "markdown",
      "id": "s4nSLQdRpnu5",
      "metadata": {
        "id": "s4nSLQdRpnu5"
      },
      "source": [
        "### 3.5 Resize and normalize data"
      ]
    },
    {
      "cell_type": "markdown",
      "id": "gWpb0K-Fpz5d",
      "metadata": {
        "id": "gWpb0K-Fpz5d"
      },
      "source": [
        "#### 3.5.1 Training data"
      ]
    },
    {
      "cell_type": "code",
      "execution_count": 84,
      "id": "xjPQM5-np9ky",
      "metadata": {
        "id": "xjPQM5-np9ky"
      },
      "outputs": [],
      "source": [
        "train_X1 = np.reshape(train_X, [-1, input_size])\n",
        "train_X1 = train_X1.astype('float32') / 255\n",
        "train_X = train_X.astype('float32') / 255"
      ]
    },
    {
      "cell_type": "code",
      "execution_count": 85,
      "id": "2IYisG8hqBEn",
      "metadata": {
        "colab": {
          "base_uri": "https://localhost:8080/"
        },
        "id": "2IYisG8hqBEn",
        "outputId": "2be4a017-0ffd-4c44-9137-dd11a9371d85"
      },
      "outputs": [
        {
          "name": "stdout",
          "output_type": "stream",
          "text": [
            "X1_train: (60000, 784)\n",
            "X_train: (60000, 28, 28, 1)\n",
            "Y_train: (60000, 10)\n"
          ]
        }
      ],
      "source": [
        "print('X1_train: ' + str(train_X1.shape))\n",
        "print('X_train: ' + str(train_X.shape))\n",
        "print('Y_train: ' + str(train_y.shape))"
      ]
    },
    {
      "cell_type": "markdown",
      "id": "yYmU96jup7Fb",
      "metadata": {
        "id": "yYmU96jup7Fb"
      },
      "source": [
        "#### 3.5.2 Testing data"
      ]
    },
    {
      "cell_type": "code",
      "execution_count": 86,
      "id": "7fFnhUpKqWFf",
      "metadata": {
        "id": "7fFnhUpKqWFf"
      },
      "outputs": [],
      "source": [
        "test_X1 = np.reshape(test_X, [-1, input_size])\n",
        "test_X1 = test_X1.astype('float32') / 255\n",
        "test_X = test_X.astype('float32') / 255"
      ]
    },
    {
      "cell_type": "code",
      "execution_count": 87,
      "id": "mdiFCTAtqZEv",
      "metadata": {
        "colab": {
          "base_uri": "https://localhost:8080/"
        },
        "id": "mdiFCTAtqZEv",
        "outputId": "f3249efb-a71c-4f3c-87ad-3d8e17e2197f"
      },
      "outputs": [
        {
          "name": "stdout",
          "output_type": "stream",
          "text": [
            "X1_test:  (10000, 784)\n",
            "X_test:  (10000, 28, 28)\n",
            "Y_test:  (10000, 10)\n"
          ]
        }
      ],
      "source": [
        "print('X1_test:  '  + str(test_X1.shape))\n",
        "print('X_test:  '  + str(test_X.shape))\n",
        "print('Y_test:  '  + str(test_y.shape))"
      ]
    },
    {
      "cell_type": "markdown",
      "id": "fLeS4LDaINCP",
      "metadata": {
        "id": "fLeS4LDaINCP"
      },
      "source": [
        "### 4.0 Modeling"
      ]
    },
    {
      "cell_type": "markdown",
      "id": "yRVvuH2OrToX",
      "metadata": {
        "id": "yRVvuH2OrToX"
      },
      "source": [
        "### 4.1 Encoder model dimensions"
      ]
    },
    {
      "cell_type": "code",
      "execution_count": 88,
      "id": "GSNg75p_qjBW",
      "metadata": {
        "id": "GSNg75p_qjBW"
      },
      "outputs": [],
      "source": [
        "input_dim = train_X1.shape[1]\n",
        "encoding_dim = 32"
      ]
    },
    {
      "cell_type": "markdown",
      "id": "xW9ssYG2qqVb",
      "metadata": {
        "id": "xW9ssYG2qqVb"
      },
      "source": [
        "### 4.2 Configure the model"
      ]
    },
    {
      "cell_type": "markdown",
      "id": "oWecTEJysSjL",
      "metadata": {
        "id": "oWecTEJysSjL"
      },
      "source": [
        "#### 4.2.1 Input layer"
      ]
    },
    {
      "cell_type": "code",
      "execution_count": 89,
      "id": "LuMPd56pzTl_",
      "metadata": {
        "id": "LuMPd56pzTl_"
      },
      "outputs": [],
      "source": [
        "input_layer = Input(shape=(input_dim,))"
      ]
    },
    {
      "cell_type": "markdown",
      "id": "xGMYUT9asWNt",
      "metadata": {
        "id": "xGMYUT9asWNt"
      },
      "source": [
        "#### 4.2.2 Encoder layer"
      ]
    },
    {
      "cell_type": "code",
      "execution_count": 90,
      "id": "c1HRwwm4sauI",
      "metadata": {
        "id": "c1HRwwm4sauI"
      },
      "outputs": [],
      "source": [
        "encoded = Dense(encoding_dim, activation='relu')(input_layer)"
      ]
    },
    {
      "cell_type": "markdown",
      "id": "p8Rd8ZYvseG8",
      "metadata": {
        "id": "p8Rd8ZYvseG8"
      },
      "source": [
        "#### 4.2.3 Decoder layer"
      ]
    },
    {
      "cell_type": "code",
      "execution_count": 91,
      "id": "H8BWIFvVsicW",
      "metadata": {
        "id": "H8BWIFvVsicW"
      },
      "outputs": [],
      "source": [
        "decoded = Dense(input_dim, activation='sigmoid')(encoded)"
      ]
    },
    {
      "cell_type": "markdown",
      "id": "UCNSLApns3cK",
      "metadata": {
        "id": "UCNSLApns3cK"
      },
      "source": [
        "### 4.3 Autoencoder model"
      ]
    },
    {
      "cell_type": "code",
      "execution_count": 92,
      "id": "I2Tky9kv0IQB",
      "metadata": {
        "id": "I2Tky9kv0IQB"
      },
      "outputs": [],
      "source": [
        "autoencoder = Model(input_layer, decoded)"
      ]
    },
    {
      "cell_type": "code",
      "execution_count": 93,
      "id": "BuMWEsnjsTeF",
      "metadata": {
        "colab": {
          "base_uri": "https://localhost:8080/",
          "height": 242
        },
        "id": "BuMWEsnjsTeF",
        "outputId": "fc02fbb5-6397-4ac1-8f19-aa1393dd43b2"
      },
      "outputs": [
        {
          "data": {
            "text/html": [
              "<pre style=\"white-space:pre;overflow-x:auto;line-height:normal;font-family:Menlo,'DejaVu Sans Mono',consolas,'Courier New',monospace\"><span style=\"font-weight: bold\">Model: \"functional_1\"</span>\n",
              "</pre>\n"
            ],
            "text/plain": [
              "\u001b[1mModel: \"functional_1\"\u001b[0m\n"
            ]
          },
          "metadata": {},
          "output_type": "display_data"
        },
        {
          "data": {
            "text/html": [
              "<pre style=\"white-space:pre;overflow-x:auto;line-height:normal;font-family:Menlo,'DejaVu Sans Mono',consolas,'Courier New',monospace\">┏━━━━━━━━━━━━━━━━━━━━━━━━━━━━━━━━━┳━━━━━━━━━━━━━━━━━━━━━━━━┳━━━━━━━━━━━━━━━┓\n",
              "┃<span style=\"font-weight: bold\"> Layer (type)                    </span>┃<span style=\"font-weight: bold\"> Output Shape           </span>┃<span style=\"font-weight: bold\">       Param # </span>┃\n",
              "┡━━━━━━━━━━━━━━━━━━━━━━━━━━━━━━━━━╇━━━━━━━━━━━━━━━━━━━━━━━━╇━━━━━━━━━━━━━━━┩\n",
              "│ input_layer_1 (<span style=\"color: #0087ff; text-decoration-color: #0087ff\">InputLayer</span>)      │ (<span style=\"color: #00d7ff; text-decoration-color: #00d7ff\">None</span>, <span style=\"color: #00af00; text-decoration-color: #00af00\">784</span>)            │             <span style=\"color: #00af00; text-decoration-color: #00af00\">0</span> │\n",
              "├─────────────────────────────────┼────────────────────────┼───────────────┤\n",
              "│ dense_2 (<span style=\"color: #0087ff; text-decoration-color: #0087ff\">Dense</span>)                 │ (<span style=\"color: #00d7ff; text-decoration-color: #00d7ff\">None</span>, <span style=\"color: #00af00; text-decoration-color: #00af00\">32</span>)             │        <span style=\"color: #00af00; text-decoration-color: #00af00\">25,120</span> │\n",
              "├─────────────────────────────────┼────────────────────────┼───────────────┤\n",
              "│ dense_3 (<span style=\"color: #0087ff; text-decoration-color: #0087ff\">Dense</span>)                 │ (<span style=\"color: #00d7ff; text-decoration-color: #00d7ff\">None</span>, <span style=\"color: #00af00; text-decoration-color: #00af00\">784</span>)            │        <span style=\"color: #00af00; text-decoration-color: #00af00\">25,872</span> │\n",
              "└─────────────────────────────────┴────────────────────────┴───────────────┘\n",
              "</pre>\n"
            ],
            "text/plain": [
              "┏━━━━━━━━━━━━━━━━━━━━━━━━━━━━━━━━━┳━━━━━━━━━━━━━━━━━━━━━━━━┳━━━━━━━━━━━━━━━┓\n",
              "┃\u001b[1m \u001b[0m\u001b[1mLayer (type)                   \u001b[0m\u001b[1m \u001b[0m┃\u001b[1m \u001b[0m\u001b[1mOutput Shape          \u001b[0m\u001b[1m \u001b[0m┃\u001b[1m \u001b[0m\u001b[1m      Param #\u001b[0m\u001b[1m \u001b[0m┃\n",
              "┡━━━━━━━━━━━━━━━━━━━━━━━━━━━━━━━━━╇━━━━━━━━━━━━━━━━━━━━━━━━╇━━━━━━━━━━━━━━━┩\n",
              "│ input_layer_1 (\u001b[38;5;33mInputLayer\u001b[0m)      │ (\u001b[38;5;45mNone\u001b[0m, \u001b[38;5;34m784\u001b[0m)            │             \u001b[38;5;34m0\u001b[0m │\n",
              "├─────────────────────────────────┼────────────────────────┼───────────────┤\n",
              "│ dense_2 (\u001b[38;5;33mDense\u001b[0m)                 │ (\u001b[38;5;45mNone\u001b[0m, \u001b[38;5;34m32\u001b[0m)             │        \u001b[38;5;34m25,120\u001b[0m │\n",
              "├─────────────────────────────────┼────────────────────────┼───────────────┤\n",
              "│ dense_3 (\u001b[38;5;33mDense\u001b[0m)                 │ (\u001b[38;5;45mNone\u001b[0m, \u001b[38;5;34m784\u001b[0m)            │        \u001b[38;5;34m25,872\u001b[0m │\n",
              "└─────────────────────────────────┴────────────────────────┴───────────────┘\n"
            ]
          },
          "metadata": {},
          "output_type": "display_data"
        },
        {
          "data": {
            "text/html": [
              "<pre style=\"white-space:pre;overflow-x:auto;line-height:normal;font-family:Menlo,'DejaVu Sans Mono',consolas,'Courier New',monospace\"><span style=\"font-weight: bold\"> Total params: </span><span style=\"color: #00af00; text-decoration-color: #00af00\">50,992</span> (199.19 KB)\n",
              "</pre>\n"
            ],
            "text/plain": [
              "\u001b[1m Total params: \u001b[0m\u001b[38;5;34m50,992\u001b[0m (199.19 KB)\n"
            ]
          },
          "metadata": {},
          "output_type": "display_data"
        },
        {
          "data": {
            "text/html": [
              "<pre style=\"white-space:pre;overflow-x:auto;line-height:normal;font-family:Menlo,'DejaVu Sans Mono',consolas,'Courier New',monospace\"><span style=\"font-weight: bold\"> Trainable params: </span><span style=\"color: #00af00; text-decoration-color: #00af00\">50,992</span> (199.19 KB)\n",
              "</pre>\n"
            ],
            "text/plain": [
              "\u001b[1m Trainable params: \u001b[0m\u001b[38;5;34m50,992\u001b[0m (199.19 KB)\n"
            ]
          },
          "metadata": {},
          "output_type": "display_data"
        },
        {
          "data": {
            "text/html": [
              "<pre style=\"white-space:pre;overflow-x:auto;line-height:normal;font-family:Menlo,'DejaVu Sans Mono',consolas,'Courier New',monospace\"><span style=\"font-weight: bold\"> Non-trainable params: </span><span style=\"color: #00af00; text-decoration-color: #00af00\">0</span> (0.00 B)\n",
              "</pre>\n"
            ],
            "text/plain": [
              "\u001b[1m Non-trainable params: \u001b[0m\u001b[38;5;34m0\u001b[0m (0.00 B)\n"
            ]
          },
          "metadata": {},
          "output_type": "display_data"
        }
      ],
      "source": [
        "autoencoder.summary()"
      ]
    },
    {
      "cell_type": "code",
      "execution_count": 94,
      "id": "S6M0FzT-sdnd",
      "metadata": {
        "colab": {
          "base_uri": "https://localhost:8080/",
          "height": 404
        },
        "id": "S6M0FzT-sdnd",
        "outputId": "42a831d6-592f-4a16-9e36-19556d3d7bbb"
      },
      "outputs": [
        {
          "data": {
            "image/png": "[encoded data removed]",
            "text/plain": [
              "<IPython.core.display.Image object>"
            ]
          },
          "execution_count": 94,
          "metadata": {},
          "output_type": "execute_result"
        }
      ],
      "source": [
        "plot_model(autoencoder, to_file='mlp-fashion-mnist-encode.png', show_shapes=True, dpi=84)"
      ]
    },
    {
      "cell_type": "markdown",
      "id": "nhKhJxhPrF0j",
      "metadata": {
        "id": "nhKhJxhPrF0j"
      },
      "source": [
        "### 4.4 Compile the model"
      ]
    },
    {
      "cell_type": "code",
      "execution_count": 95,
      "id": "5Seagk6bsuaO",
      "metadata": {
        "id": "5Seagk6bsuaO"
      },
      "outputs": [],
      "source": [
        "autoencoder.compile(optimizer='adam', loss='binary_crossentropy')"
      ]
    },
    {
      "cell_type": "markdown",
      "id": "MwpW1hocswti",
      "metadata": {
        "id": "MwpW1hocswti"
      },
      "source": [
        "### 4.4 Fit the autoencoder"
      ]
    },
    {
      "cell_type": "code",
      "execution_count": 96,
      "id": "LzXx1qFatFIA",
      "metadata": {
        "colab": {
          "base_uri": "https://localhost:8080/"
        },
        "id": "LzXx1qFatFIA",
        "outputId": "ee9df025-7672-4a33-de85-d4fea40fffbf"
      },
      "outputs": [
        {
          "name": "stdout",
          "output_type": "stream",
          "text": [
            "Epoch 1/20\n",
            "\u001b[1m235/235\u001b[0m \u001b[32m━━━━━━━━━━━━━━━━━━━━\u001b[0m\u001b[37m\u001b[0m \u001b[1m4s\u001b[0m 11ms/step - loss: 0.4999 - val_loss: 0.3403\n",
            "Epoch 2/20\n",
            "\u001b[1m235/235\u001b[0m \u001b[32m━━━━━━━━━━━━━━━━━━━━\u001b[0m\u001b[37m\u001b[0m \u001b[1m3s\u001b[0m 13ms/step - loss: 0.3306 - val_loss: 0.3174\n",
            "Epoch 3/20\n",
            "\u001b[1m235/235\u001b[0m \u001b[32m━━━━━━━━━━━━━━━━━━━━\u001b[0m\u001b[37m\u001b[0m \u001b[1m4s\u001b[0m 10ms/step - loss: 0.3124 - val_loss: 0.3059\n",
            "Epoch 4/20\n",
            "\u001b[1m235/235\u001b[0m \u001b[32m━━━━━━━━━━━━━━━━━━━━\u001b[0m\u001b[37m\u001b[0m \u001b[1m3s\u001b[0m 10ms/step - loss: 0.3020 - val_loss: 0.2987\n",
            "Epoch 5/20\n",
            "\u001b[1m235/235\u001b[0m \u001b[32m━━━━━━━━━━━━━━━━━━━━\u001b[0m\u001b[37m\u001b[0m \u001b[1m2s\u001b[0m 10ms/step - loss: 0.2959 - val_loss: 0.2943\n",
            "Epoch 6/20\n",
            "\u001b[1m235/235\u001b[0m \u001b[32m━━━━━━━━━━━━━━━━━━━━\u001b[0m\u001b[37m\u001b[0m \u001b[1m3s\u001b[0m 12ms/step - loss: 0.2914 - val_loss: 0.2918\n",
            "Epoch 7/20\n",
            "\u001b[1m235/235\u001b[0m \u001b[32m━━━━━━━━━━━━━━━━━━━━\u001b[0m\u001b[37m\u001b[0m \u001b[1m5s\u001b[0m 10ms/step - loss: 0.2888 - val_loss: 0.2899\n",
            "Epoch 8/20\n",
            "\u001b[1m235/235\u001b[0m \u001b[32m━━━━━━━━━━━━━━━━━━━━\u001b[0m\u001b[37m\u001b[0m \u001b[1m2s\u001b[0m 10ms/step - loss: 0.2874 - val_loss: 0.2886\n",
            "Epoch 9/20\n",
            "\u001b[1m235/235\u001b[0m \u001b[32m━━━━━━━━━━━━━━━━━━━━\u001b[0m\u001b[37m\u001b[0m \u001b[1m3s\u001b[0m 10ms/step - loss: 0.2863 - val_loss: 0.2878\n",
            "Epoch 10/20\n",
            "\u001b[1m235/235\u001b[0m \u001b[32m━━━━━━━━━━━━━━━━━━━━\u001b[0m\u001b[37m\u001b[0m \u001b[1m3s\u001b[0m 14ms/step - loss: 0.2856 - val_loss: 0.2873\n",
            "Epoch 11/20\n",
            "\u001b[1m235/235\u001b[0m \u001b[32m━━━━━━━━━━━━━━━━━━━━\u001b[0m\u001b[37m\u001b[0m \u001b[1m2s\u001b[0m 10ms/step - loss: 0.2854 - val_loss: 0.2869\n",
            "Epoch 12/20\n",
            "\u001b[1m235/235\u001b[0m \u001b[32m━━━━━━━━━━━━━━━━━━━━\u001b[0m\u001b[37m\u001b[0m \u001b[1m2s\u001b[0m 10ms/step - loss: 0.2851 - val_loss: 0.2865\n",
            "Epoch 13/20\n",
            "\u001b[1m235/235\u001b[0m \u001b[32m━━━━━━━━━━━━━━━━━━━━\u001b[0m\u001b[37m\u001b[0m \u001b[1m2s\u001b[0m 10ms/step - loss: 0.2848 - val_loss: 0.2861\n",
            "Epoch 14/20\n",
            "\u001b[1m235/235\u001b[0m \u001b[32m━━━━━━━━━━━━━━━━━━━━\u001b[0m\u001b[37m\u001b[0m \u001b[1m3s\u001b[0m 10ms/step - loss: 0.2846 - val_loss: 0.2860\n",
            "Epoch 15/20\n",
            "\u001b[1m235/235\u001b[0m \u001b[32m━━━━━━━━━━━━━━━━━━━━\u001b[0m\u001b[37m\u001b[0m \u001b[1m4s\u001b[0m 16ms/step - loss: 0.2835 - val_loss: 0.2858\n",
            "Epoch 16/20\n",
            "\u001b[1m235/235\u001b[0m \u001b[32m━━━━━━━━━━━━━━━━━━━━\u001b[0m\u001b[37m\u001b[0m \u001b[1m2s\u001b[0m 10ms/step - loss: 0.2832 - val_loss: 0.2856\n",
            "Epoch 17/20\n",
            "\u001b[1m235/235\u001b[0m \u001b[32m━━━━━━━━━━━━━━━━━━━━\u001b[0m\u001b[37m\u001b[0m \u001b[1m2s\u001b[0m 10ms/step - loss: 0.2827 - val_loss: 0.2856\n",
            "Epoch 18/20\n",
            "\u001b[1m235/235\u001b[0m \u001b[32m━━━━━━━━━━━━━━━━━━━━\u001b[0m\u001b[37m\u001b[0m \u001b[1m2s\u001b[0m 10ms/step - loss: 0.2829 - val_loss: 0.2854\n",
            "Epoch 19/20\n",
            "\u001b[1m235/235\u001b[0m \u001b[32m━━━━━━━━━━━━━━━━━━━━\u001b[0m\u001b[37m\u001b[0m \u001b[1m3s\u001b[0m 10ms/step - loss: 0.2831 - val_loss: 0.2852\n",
            "Epoch 20/20\n",
            "\u001b[1m235/235\u001b[0m \u001b[32m━━━━━━━━━━━━━━━━━━━━\u001b[0m\u001b[37m\u001b[0m \u001b[1m3s\u001b[0m 14ms/step - loss: 0.2832 - val_loss: 0.2853\n"
          ]
        },
        {
          "data": {
            "text/plain": [
              "<keras.src.callbacks.history.History at 0x7d32003bfbc0>"
            ]
          },
          "execution_count": 96,
          "metadata": {},
          "output_type": "execute_result"
        }
      ],
      "source": [
        "autoencoder.fit(train_X1, train_X1,\n",
        "  epochs=20,\n",
        "  batch_size=256,\n",
        "  shuffle=True,\n",
        "  validation_data=(test_X1, test_X1),\n",
        "  verbose=1)"
      ]
    },
    {
      "cell_type": "markdown",
      "id": "c2c8e434-cb5a-45df-886e-7155311952ae",
      "metadata": {
        "id": "c2c8e434-cb5a-45df-886e-7155311952ae"
      },
      "source": [
        "## 5.0 Evaluation"
      ]
    },
    {
      "cell_type": "code",
      "execution_count": 97,
      "id": "P4ngmd7BtaKQ",
      "metadata": {
        "colab": {
          "base_uri": "https://localhost:8080/"
        },
        "id": "P4ngmd7BtaKQ",
        "outputId": "1430d631-7140-4416-84c1-d03732aee244"
      },
      "outputs": [
        {
          "name": "stdout",
          "output_type": "stream",
          "text": [
            "\u001b[1m313/313\u001b[0m \u001b[32m━━━━━━━━━━━━━━━━━━━━\u001b[0m\u001b[37m\u001b[0m \u001b[1m0s\u001b[0m 1ms/step\n"
          ]
        }
      ],
      "source": [
        "encoded_images = autoencoder.predict(test_X1)"
      ]
    },
    {
      "cell_type": "code",
      "execution_count": 98,
      "id": "9qxUP3kix7LW",
      "metadata": {
        "id": "9qxUP3kix7LW"
      },
      "outputs": [],
      "source": [
        "def plot_mnist_images(original, decoded, n=10):\n",
        "  plt.figure(figsize=(20, 6))\n",
        "  for i in range(n):\n",
        "    ax = plt.subplot(3, n, i + 1)\n",
        "    plt.imshow(original[i].reshape(28, 28), cmap='gray')\n",
        "    plt.title(\"Original: {}\".format(i))\n",
        "    plt.axis('off')\n",
        "\n",
        "    ax = plt.subplot(3, n, i + 1 + n)\n",
        "    plt.imshow(decoded[i].reshape(28, 28), cmap='gray')\n",
        "    plt.title(\"Decoded: {}\".format(i))\n",
        "    plt.axis('off')\n",
        "  plt.show()"
      ]
    },
    {
      "cell_type": "code",
      "execution_count": 99,
      "id": "b9yGvBQnx_b4",
      "metadata": {
        "colab": {
          "base_uri": "https://localhost:8080/",
          "height": 353
        },
        "id": "b9yGvBQnx_b4",
        "outputId": "5830c7c5-f97f-4354-d17c-2e10c92489d1"
      },
      "outputs": [
        {
          "data": {
            "image/png": "[encoded data removed]",
            "text/plain": [
              "<Figure size 2000x600 with 20 Axes>"
            ]
          },
          "metadata": {},
          "output_type": "display_data"
        }
      ],
      "source": [
        "plot_mnist_images(test_X1, encoded_images)"
      ]
    },
    {
      "cell_type": "markdown",
      "id": "1413d4ee-7226-4635-a145-696c89266523",
      "metadata": {
        "id": "1413d4ee-7226-4635-a145-696c89266523"
      },
      "source": [
        "## 6.0 Deployment"
      ]
    },
    {
      "cell_type": "code",
      "execution_count": 99,
      "id": "s0e0s38MhYce",
      "metadata": {
        "id": "s0e0s38MhYce"
      },
      "outputs": [],
      "source": []
    }
  ],
  "metadata": {
    "colab": {
      "provenance": []
    },
    "kernelspec": {
      "display_name": "Python 3 (ipykernel)",
      "language": "python",
      "name": "python3"
    },
    "language_info": {
      "codemirror_mode": {
        "name": "ipython",
        "version": 3
      },
      "file_extension": ".py",
      "mimetype": "text/x-python",
      "name": "python",
      "nbconvert_exporter": "python",
      "pygments_lexer": "ipython3",
      "version": "3.12.3"
    }
  },
  "nbformat": 4,
  "nbformat_minor": 5
}
