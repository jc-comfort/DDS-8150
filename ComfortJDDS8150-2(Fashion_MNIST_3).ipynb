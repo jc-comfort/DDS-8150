{
  "cells": [
    {
      "cell_type": "markdown",
      "id": "66ccfc5d-e575-4a84-99d0-f3a33e04c73e",
      "metadata": {
        "id": "66ccfc5d-e575-4a84-99d0-f3a33e04c73e"
      },
      "source": [
        "#  Fashion MNIST Autoencoder"
      ]
    },
    {
      "cell_type": "markdown",
      "id": "097fea59-08ac-4ee8-99be-4caad5ec27f0",
      "metadata": {
        "id": "097fea59-08ac-4ee8-99be-4caad5ec27f0"
      },
      "source": [
        "## 1.0 Study purpose"
      ]
    },
    {
      "cell_type": "markdown",
      "id": "TUIc_ChjmBMA",
      "metadata": {
        "id": "TUIc_ChjmBMA"
      },
      "source": [
        "* Build and train an autoencoder for the Fashion MNIST dataset.\n",
        "* Compress the images into a lower-dimensional representation.\n",
        "* Reconstruct the original images from the compressed representations.\n",
        "* Monitor the reconstruction loss during training.\n",
        "* Evaluate performance by visualizing reconstructed images."
      ]
    },
    {
      "cell_type": "markdown",
      "id": "816221c4-ff84-4408-95a1-82644f316aad",
      "metadata": {
        "id": "816221c4-ff84-4408-95a1-82644f316aad"
      },
      "source": [
        "## 2.0 Data Understanding"
      ]
    },
    {
      "cell_type": "markdown",
      "id": "065f2439-d81b-4a4c-a164-ef02f1d5535f",
      "metadata": {
        "id": "065f2439-d81b-4a4c-a164-ef02f1d5535f"
      },
      "source": [
        "### 2.1 Prelimary data analysis"
      ]
    },
    {
      "cell_type": "markdown",
      "id": "EWAsFD33l16s",
      "metadata": {
        "id": "EWAsFD33l16s"
      },
      "source": [
        "#### 2.1.1 Import libraries"
      ]
    },
    {
      "cell_type": "code",
      "execution_count": 117,
      "id": "bHzhvyWGca31",
      "metadata": {
        "id": "bHzhvyWGca31"
      },
      "outputs": [],
      "source": [
        "import pandas as pd\n",
        "import matplotlib.pyplot as plt\n",
        "import numpy as np\n",
        "import os\n",
        "import warnings\n",
        "import tensorflow as tf\n",
        "\n",
        "%matplotlib inline"
      ]
    },
    {
      "cell_type": "code",
      "execution_count": 118,
      "id": "7Wp7ovjamWf-",
      "metadata": {
        "id": "7Wp7ovjamWf-"
      },
      "outputs": [],
      "source": [
        "from matplotlib import pyplot\n",
        "from keras.datasets import mnist, fashion_mnist, cifar100\n",
        "from keras.models import Model\n",
        "from keras.utils import to_categorical, plot_model\n",
        "from keras.layers import Input, Dense , Activation, Dropout, Flatten, Conv2D, MaxPooling2D\n",
        "from keras.constraints import max_norm\n",
        "from keras.optimizers import Adam ,RMSprop\n",
        "from keras import backend as K\n",
        "from subprocess import check_output"
      ]
    },
    {
      "cell_type": "markdown",
      "id": "992e3ae5-d8ba-4a81-985e-378513890492",
      "metadata": {
        "id": "992e3ae5-d8ba-4a81-985e-378513890492"
      },
      "source": [
        "#### 2.1.2 Suppress warnings"
      ]
    },
    {
      "cell_type": "code",
      "execution_count": 119,
      "id": "alownMrNhVFz",
      "metadata": {
        "id": "alownMrNhVFz"
      },
      "outputs": [],
      "source": [
        "warnings.filterwarnings('ignore')"
      ]
    },
    {
      "cell_type": "markdown",
      "id": "01df576b-ec9e-4ca8-9b6a-f2f9f822c4db",
      "metadata": {
        "id": "01df576b-ec9e-4ca8-9b6a-f2f9f822c4db"
      },
      "source": [
        "#### 2.1.3 Data ingestion"
      ]
    },
    {
      "cell_type": "code",
      "execution_count": 120,
      "id": "5aHaGngLmEzh",
      "metadata": {
        "id": "5aHaGngLmEzh"
      },
      "outputs": [],
      "source": [
        "(train_X, train_y), (test_X, test_y) = fashion_mnist.load_data()"
      ]
    },
    {
      "cell_type": "code",
      "execution_count": 121,
      "id": "etaxchhrmAYn",
      "metadata": {
        "colab": {
          "base_uri": "https://localhost:8080/"
        },
        "id": "etaxchhrmAYn",
        "outputId": "bec0933c-39ed-4cf3-a7c4-951a54e10730"
      },
      "outputs": [
        {
          "name": "stdout",
          "output_type": "stream",
          "text": [
            "X_train: (60000, 28, 28)\n",
            "Y_train: (60000,)\n",
            "X_test:  (10000, 28, 28)\n",
            "Y_test:  (10000,)\n"
          ]
        }
      ],
      "source": [
        "print('X_train: ' + str(train_X.shape))\n",
        "print('Y_train: ' + str(train_y.shape))\n",
        "print('X_test:  '  + str(test_X.shape))\n",
        "print('Y_test:  '  + str(test_y.shape))"
      ]
    },
    {
      "cell_type": "markdown",
      "id": "Ka9Bz7p0nGUH",
      "metadata": {
        "id": "Ka9Bz7p0nGUH"
      },
      "source": [
        "#### 2.1.4 Set random seed"
      ]
    },
    {
      "cell_type": "code",
      "execution_count": 122,
      "id": "yfhZmB_ljNVz",
      "metadata": {
        "id": "yfhZmB_ljNVz"
      },
      "outputs": [],
      "source": [
        "np.random.seed(42)"
      ]
    },
    {
      "cell_type": "markdown",
      "id": "a821a5fc-3443-43a9-b4e0-152564f36850",
      "metadata": {
        "id": "a821a5fc-3443-43a9-b4e0-152564f36850"
      },
      "source": [
        "### 2.2 Data quality"
      ]
    },
    {
      "cell_type": "markdown",
      "id": "6bf5ae71-b09a-43a4-95cf-0867d7084ee1",
      "metadata": {
        "id": "6bf5ae71-b09a-43a4-95cf-0867d7084ee1"
      },
      "source": [
        "#### 2.2.1 Training data sample images"
      ]
    },
    {
      "cell_type": "code",
      "execution_count": 123,
      "id": "86Znomkjn9Gf",
      "metadata": {
        "colab": {
          "base_uri": "https://localhost:8080/",
          "height": 486
        },
        "id": "86Znomkjn9Gf",
        "outputId": "d14e23ae-f8dc-4d7f-d17c-1620a299df8a"
      },
      "outputs": [
        {
          "data": {
            "image/png": "[encoded data removed]",
            "text/plain": [
              "<Figure size 640x480 with 9 Axes>"
            ]
          },
          "metadata": {},
          "output_type": "display_data"
        }
      ],
      "source": [
        "for i in range(9):\n",
        "    pyplot.subplot(3, 3, i + 1)\n",
        "    pyplot.imshow(train_X[i], cmap=pyplot.get_cmap('gray'))\n",
        "\n",
        "pyplot.tight_layout()\n",
        "pyplot.show()"
      ]
    },
    {
      "cell_type": "markdown",
      "id": "lNeUNHpKjoNS",
      "metadata": {
        "id": "lNeUNHpKjoNS"
      },
      "source": [
        "#### 2.2.2 Training label data counts"
      ]
    },
    {
      "cell_type": "code",
      "execution_count": 124,
      "id": "ZDnCWOWInv3i",
      "metadata": {
        "colab": {
          "base_uri": "https://localhost:8080/"
        },
        "id": "ZDnCWOWInv3i",
        "outputId": "2bdbb09b-c381-4340-866c-1c0ce0957cdb"
      },
      "outputs": [
        {
          "name": "stdout",
          "output_type": "stream",
          "text": [
            "Train labels:  {np.uint8(0): np.int64(6000), np.uint8(1): np.int64(6000), np.uint8(2): np.int64(6000), np.uint8(3): np.int64(6000), np.uint8(4): np.int64(6000), np.uint8(5): np.int64(6000), np.uint8(6): np.int64(6000), np.uint8(7): np.int64(6000), np.uint8(8): np.int64(6000), np.uint8(9): np.int64(6000)}\n"
          ]
        }
      ],
      "source": [
        "unique, counts = np.unique(train_y, return_counts=True)\n",
        "print(\"Train labels: \", dict(zip(unique, counts)))"
      ]
    },
    {
      "cell_type": "markdown",
      "id": "GFp4c0BTjt8r",
      "metadata": {
        "id": "GFp4c0BTjt8r"
      },
      "source": [
        "#### 2.2.3 Testing label data counts"
      ]
    },
    {
      "cell_type": "code",
      "execution_count": 125,
      "id": "ygUtr0V2nzBF",
      "metadata": {
        "colab": {
          "base_uri": "https://localhost:8080/"
        },
        "id": "ygUtr0V2nzBF",
        "outputId": "737dca25-7628-49c3-bb2e-0643cd27f41d"
      },
      "outputs": [
        {
          "name": "stdout",
          "output_type": "stream",
          "text": [
            "\n",
            "Test labels:  {np.uint8(0): np.int64(1000), np.uint8(1): np.int64(1000), np.uint8(2): np.int64(1000), np.uint8(3): np.int64(1000), np.uint8(4): np.int64(1000), np.uint8(5): np.int64(1000), np.uint8(6): np.int64(1000), np.uint8(7): np.int64(1000), np.uint8(8): np.int64(1000), np.uint8(9): np.int64(1000)}\n"
          ]
        }
      ],
      "source": [
        "unique, counts = np.unique(test_y, return_counts=True)\n",
        "print(\"\\nTest labels: \", dict(zip(unique, counts)))"
      ]
    },
    {
      "cell_type": "markdown",
      "id": "GD6kbaEUn9Sf",
      "metadata": {
        "id": "GD6kbaEUn9Sf"
      },
      "source": [
        "#### 2.2.4 Label descriptions"
      ]
    },
    {
      "cell_type": "markdown",
      "id": "nUa7Nl1ooLLR",
      "metadata": {
        "id": "nUa7Nl1ooLLR"
      },
      "source": [
        "1.\tT-shirt/top\n",
        "2.\tTrouser\n",
        "3.\tPullover\n",
        "4.\tDress\n",
        "5.\tCoat\n",
        "6.\tSandal\n",
        "7.\tShirt\n",
        "8.\tSneaker\n",
        "9.\tBag\n",
        "10.\tAnkle boot"
      ]
    },
    {
      "cell_type": "markdown",
      "id": "_xTda8Uar0bg",
      "metadata": {
        "id": "_xTda8Uar0bg"
      },
      "source": [
        "### 2.3 Exploratory data analysis"
      ]
    },
    {
      "cell_type": "markdown",
      "id": "87e25d4d-b0a0-4c05-93e2-1c69736e860a",
      "metadata": {
        "id": "87e25d4d-b0a0-4c05-93e2-1c69736e860a"
      },
      "source": [
        "## 3.0 Data preprocessing"
      ]
    },
    {
      "cell_type": "markdown",
      "id": "V5ua3mmuoVip",
      "metadata": {
        "id": "V5ua3mmuoVip"
      },
      "source": [
        "### 3.1 Compute the number of labels"
      ]
    },
    {
      "cell_type": "code",
      "execution_count": 126,
      "id": "8vZrPAUgoZSq",
      "metadata": {
        "colab": {
          "base_uri": "https://localhost:8080/"
        },
        "id": "8vZrPAUgoZSq",
        "outputId": "3da3c341-2b58-41ef-e027-0df16d668a95"
      },
      "outputs": [
        {
          "data": {
            "text/plain": [
              "10"
            ]
          },
          "execution_count": 126,
          "metadata": {},
          "output_type": "execute_result"
        }
      ],
      "source": [
        "num_labels = len(np.unique(train_y))\n",
        "num_labels"
      ]
    },
    {
      "cell_type": "markdown",
      "id": "i0h_EZrboeyX",
      "metadata": {
        "id": "i0h_EZrboeyX"
      },
      "source": [
        "### 3.2 Encode output data"
      ]
    },
    {
      "cell_type": "code",
      "execution_count": 127,
      "id": "Jpsh4b3_olkT",
      "metadata": {
        "id": "Jpsh4b3_olkT"
      },
      "outputs": [],
      "source": [
        "train_y = to_categorical(train_y)\n",
        "test_y = to_categorical(test_y)"
      ]
    },
    {
      "cell_type": "markdown",
      "id": "R4ocNP_so-ft",
      "metadata": {
        "id": "R4ocNP_so-ft"
      },
      "source": [
        "### 3.3 Image dimensions"
      ]
    },
    {
      "cell_type": "code",
      "execution_count": 128,
      "id": "rohFsqMGpCj1",
      "metadata": {
        "colab": {
          "base_uri": "https://localhost:8080/"
        },
        "id": "rohFsqMGpCj1",
        "outputId": "ab0946e7-a5ee-4dd1-c437-016623ede686"
      },
      "outputs": [
        {
          "data": {
            "text/plain": [
              "784"
            ]
          },
          "execution_count": 128,
          "metadata": {},
          "output_type": "execute_result"
        }
      ],
      "source": [
        "image_size = train_X.shape[1]\n",
        "input_size = image_size * image_size\n",
        "input_size"
      ]
    },
    {
      "cell_type": "code",
      "execution_count": 129,
      "id": "iu0BJ9M3pOEq",
      "metadata": {
        "id": "iu0BJ9M3pOEq"
      },
      "outputs": [],
      "source": [
        "train_X = np.expand_dims(train_X, axis=-1)"
      ]
    },
    {
      "cell_type": "markdown",
      "id": "MGoQtug3pYVV",
      "metadata": {
        "id": "MGoQtug3pYVV"
      },
      "source": [
        "### 3.4 Number of classes"
      ]
    },
    {
      "cell_type": "code",
      "execution_count": 130,
      "id": "YmvzldbSpcto",
      "metadata": {
        "id": "YmvzldbSpcto"
      },
      "outputs": [],
      "source": [
        "num_classes = test_y.shape[1]"
      ]
    },
    {
      "cell_type": "markdown",
      "id": "s4nSLQdRpnu5",
      "metadata": {
        "id": "s4nSLQdRpnu5"
      },
      "source": [
        "### 3.5 Resize and normalize data"
      ]
    },
    {
      "cell_type": "markdown",
      "id": "gWpb0K-Fpz5d",
      "metadata": {
        "id": "gWpb0K-Fpz5d"
      },
      "source": [
        "#### 3.5.1 Training data"
      ]
    },
    {
      "cell_type": "code",
      "execution_count": 131,
      "id": "xjPQM5-np9ky",
      "metadata": {
        "id": "xjPQM5-np9ky"
      },
      "outputs": [],
      "source": [
        "train_X1 = np.reshape(train_X, [-1, input_size])\n",
        "train_X1 = train_X1.astype('float32') / 255\n",
        "train_X = train_X.astype('float32') / 255"
      ]
    },
    {
      "cell_type": "code",
      "execution_count": 132,
      "id": "2IYisG8hqBEn",
      "metadata": {
        "colab": {
          "base_uri": "https://localhost:8080/"
        },
        "id": "2IYisG8hqBEn",
        "outputId": "cba4e7e2-987d-4279-ed72-8f39854acc89"
      },
      "outputs": [
        {
          "name": "stdout",
          "output_type": "stream",
          "text": [
            "X1_train: (60000, 784)\n",
            "X_train: (60000, 28, 28, 1)\n",
            "Y_train: (60000, 10)\n"
          ]
        }
      ],
      "source": [
        "print('X1_train: ' + str(train_X1.shape))\n",
        "print('X_train: ' + str(train_X.shape))\n",
        "print('Y_train: ' + str(train_y.shape))"
      ]
    },
    {
      "cell_type": "markdown",
      "id": "yYmU96jup7Fb",
      "metadata": {
        "id": "yYmU96jup7Fb"
      },
      "source": [
        "#### 3.5.2 Testing data"
      ]
    },
    {
      "cell_type": "code",
      "execution_count": 133,
      "id": "7fFnhUpKqWFf",
      "metadata": {
        "id": "7fFnhUpKqWFf"
      },
      "outputs": [],
      "source": [
        "test_X1 = np.reshape(test_X, [-1, input_size])\n",
        "test_X1 = test_X1.astype('float32') / 255\n",
        "test_X = test_X.astype('float32') / 255"
      ]
    },
    {
      "cell_type": "code",
      "execution_count": 134,
      "id": "mdiFCTAtqZEv",
      "metadata": {
        "colab": {
          "base_uri": "https://localhost:8080/"
        },
        "id": "mdiFCTAtqZEv",
        "outputId": "6c345e71-0a96-4bdc-d97d-9b47167f988a"
      },
      "outputs": [
        {
          "name": "stdout",
          "output_type": "stream",
          "text": [
            "X1_test:  (10000, 784)\n",
            "X_test:  (10000, 28, 28)\n",
            "Y_test:  (10000, 10)\n"
          ]
        }
      ],
      "source": [
        "print('X1_test:  '  + str(test_X1.shape))\n",
        "print('X_test:  '  + str(test_X.shape))\n",
        "print('Y_test:  '  + str(test_y.shape))"
      ]
    },
    {
      "cell_type": "markdown",
      "id": "fLeS4LDaINCP",
      "metadata": {
        "id": "fLeS4LDaINCP"
      },
      "source": [
        "### 4.0 Modeling"
      ]
    },
    {
      "cell_type": "markdown",
      "id": "yRVvuH2OrToX",
      "metadata": {
        "id": "yRVvuH2OrToX"
      },
      "source": [
        "### 4.1 Model input"
      ]
    },
    {
      "cell_type": "code",
      "execution_count": 135,
      "id": "LuMPd56pzTl_",
      "metadata": {
        "id": "LuMPd56pzTl_"
      },
      "outputs": [],
      "source": [
        "input_img = Input(shape=(784,))"
      ]
    },
    {
      "cell_type": "markdown",
      "id": "xW9ssYG2qqVb",
      "metadata": {
        "id": "xW9ssYG2qqVb"
      },
      "source": [
        "### 4.2 Encoder layers"
      ]
    },
    {
      "cell_type": "code",
      "execution_count": 136,
      "id": "V9IxUqDwvcpH",
      "metadata": {
        "id": "V9IxUqDwvcpH"
      },
      "outputs": [],
      "source": [
        "e1 = Dense(256, activation='relu')(input_img)"
      ]
    },
    {
      "cell_type": "code",
      "execution_count": 137,
      "id": "tXSJ0BF_vdvF",
      "metadata": {
        "id": "tXSJ0BF_vdvF"
      },
      "outputs": [],
      "source": [
        "e2 = Dense(128, activation='relu')(e1)"
      ]
    },
    {
      "cell_type": "code",
      "execution_count": 138,
      "id": "Fv-obmOIvdfR",
      "metadata": {
        "id": "Fv-obmOIvdfR"
      },
      "outputs": [],
      "source": [
        "e3 = Dense(64, activation='relu')(e2)"
      ]
    },
    {
      "cell_type": "code",
      "execution_count": 139,
      "id": "c1HRwwm4sauI",
      "metadata": {
        "id": "c1HRwwm4sauI"
      },
      "outputs": [],
      "source": [
        "encoded = Dense(32, activation='relu')(input_img)"
      ]
    },
    {
      "cell_type": "markdown",
      "id": "p8Rd8ZYvseG8",
      "metadata": {
        "id": "p8Rd8ZYvseG8"
      },
      "source": [
        "### 4.3 Decoder layers"
      ]
    },
    {
      "cell_type": "code",
      "execution_count": 140,
      "id": "skwjWZn5vutL",
      "metadata": {
        "id": "skwjWZn5vutL"
      },
      "outputs": [],
      "source": [
        "d1 = Dense(64, activation='sigmoid')(encoded)"
      ]
    },
    {
      "cell_type": "code",
      "execution_count": 141,
      "id": "IDMExgG0v2px",
      "metadata": {
        "id": "IDMExgG0v2px"
      },
      "outputs": [],
      "source": [
        "d2 = Dense(128, activation='sigmoid')(d1)"
      ]
    },
    {
      "cell_type": "code",
      "execution_count": 142,
      "id": "SW2J16b_v5MA",
      "metadata": {
        "id": "SW2J16b_v5MA"
      },
      "outputs": [],
      "source": [
        "d3 = Dense(256, activation='sigmoid')(d2)"
      ]
    },
    {
      "cell_type": "code",
      "execution_count": 143,
      "id": "H8BWIFvVsicW",
      "metadata": {
        "id": "H8BWIFvVsicW"
      },
      "outputs": [],
      "source": [
        "decoded = Dense(784, activation='sigmoid')(d3)"
      ]
    },
    {
      "cell_type": "markdown",
      "id": "UCNSLApns3cK",
      "metadata": {
        "id": "UCNSLApns3cK"
      },
      "source": [
        "### 4.4 Autoencoder model"
      ]
    },
    {
      "cell_type": "code",
      "execution_count": 144,
      "id": "HrPkf3gTsIGi",
      "metadata": {
        "id": "HrPkf3gTsIGi"
      },
      "outputs": [],
      "source": [
        "autoencoder = Model(input_img, decoded)"
      ]
    },
    {
      "cell_type": "code",
      "execution_count": 145,
      "id": "BuMWEsnjsTeF",
      "metadata": {
        "colab": {
          "base_uri": "https://localhost:8080/",
          "height": 346
        },
        "id": "BuMWEsnjsTeF",
        "outputId": "b30da3d2-7673-438f-beef-3e4161284796"
      },
      "outputs": [
        {
          "data": {
            "text/html": [
              "<pre style=\"white-space:pre;overflow-x:auto;line-height:normal;font-family:Menlo,'DejaVu Sans Mono',consolas,'Courier New',monospace\"><span style=\"font-weight: bold\">Model: \"functional_8\"</span>\n",
              "</pre>\n"
            ],
            "text/plain": [
              "\u001b[1mModel: \"functional_8\"\u001b[0m\n"
            ]
          },
          "metadata": {},
          "output_type": "display_data"
        },
        {
          "data": {
            "text/html": [
              "<pre style=\"white-space:pre;overflow-x:auto;line-height:normal;font-family:Menlo,'DejaVu Sans Mono',consolas,'Courier New',monospace\">┏━━━━━━━━━━━━━━━━━━━━━━━━━━━━━━━━━┳━━━━━━━━━━━━━━━━━━━━━━━━┳━━━━━━━━━━━━━━━┓\n",
              "┃<span style=\"font-weight: bold\"> Layer (type)                    </span>┃<span style=\"font-weight: bold\"> Output Shape           </span>┃<span style=\"font-weight: bold\">       Param # </span>┃\n",
              "┡━━━━━━━━━━━━━━━━━━━━━━━━━━━━━━━━━╇━━━━━━━━━━━━━━━━━━━━━━━━╇━━━━━━━━━━━━━━━┩\n",
              "│ input_layer_3 (<span style=\"color: #0087ff; text-decoration-color: #0087ff\">InputLayer</span>)      │ (<span style=\"color: #00d7ff; text-decoration-color: #00d7ff\">None</span>, <span style=\"color: #00af00; text-decoration-color: #00af00\">784</span>)            │             <span style=\"color: #00af00; text-decoration-color: #00af00\">0</span> │\n",
              "├─────────────────────────────────┼────────────────────────┼───────────────┤\n",
              "│ dense_15 (<span style=\"color: #0087ff; text-decoration-color: #0087ff\">Dense</span>)                │ (<span style=\"color: #00d7ff; text-decoration-color: #00d7ff\">None</span>, <span style=\"color: #00af00; text-decoration-color: #00af00\">32</span>)             │        <span style=\"color: #00af00; text-decoration-color: #00af00\">25,120</span> │\n",
              "├─────────────────────────────────┼────────────────────────┼───────────────┤\n",
              "│ dense_16 (<span style=\"color: #0087ff; text-decoration-color: #0087ff\">Dense</span>)                │ (<span style=\"color: #00d7ff; text-decoration-color: #00d7ff\">None</span>, <span style=\"color: #00af00; text-decoration-color: #00af00\">64</span>)             │         <span style=\"color: #00af00; text-decoration-color: #00af00\">2,112</span> │\n",
              "├─────────────────────────────────┼────────────────────────┼───────────────┤\n",
              "│ dense_17 (<span style=\"color: #0087ff; text-decoration-color: #0087ff\">Dense</span>)                │ (<span style=\"color: #00d7ff; text-decoration-color: #00d7ff\">None</span>, <span style=\"color: #00af00; text-decoration-color: #00af00\">128</span>)            │         <span style=\"color: #00af00; text-decoration-color: #00af00\">8,320</span> │\n",
              "├─────────────────────────────────┼────────────────────────┼───────────────┤\n",
              "│ dense_18 (<span style=\"color: #0087ff; text-decoration-color: #0087ff\">Dense</span>)                │ (<span style=\"color: #00d7ff; text-decoration-color: #00d7ff\">None</span>, <span style=\"color: #00af00; text-decoration-color: #00af00\">256</span>)            │        <span style=\"color: #00af00; text-decoration-color: #00af00\">33,024</span> │\n",
              "├─────────────────────────────────┼────────────────────────┼───────────────┤\n",
              "│ dense_19 (<span style=\"color: #0087ff; text-decoration-color: #0087ff\">Dense</span>)                │ (<span style=\"color: #00d7ff; text-decoration-color: #00d7ff\">None</span>, <span style=\"color: #00af00; text-decoration-color: #00af00\">784</span>)            │       <span style=\"color: #00af00; text-decoration-color: #00af00\">201,488</span> │\n",
              "└─────────────────────────────────┴────────────────────────┴───────────────┘\n",
              "</pre>\n"
            ],
            "text/plain": [
              "┏━━━━━━━━━━━━━━━━━━━━━━━━━━━━━━━━━┳━━━━━━━━━━━━━━━━━━━━━━━━┳━━━━━━━━━━━━━━━┓\n",
              "┃\u001b[1m \u001b[0m\u001b[1mLayer (type)                   \u001b[0m\u001b[1m \u001b[0m┃\u001b[1m \u001b[0m\u001b[1mOutput Shape          \u001b[0m\u001b[1m \u001b[0m┃\u001b[1m \u001b[0m\u001b[1m      Param #\u001b[0m\u001b[1m \u001b[0m┃\n",
              "┡━━━━━━━━━━━━━━━━━━━━━━━━━━━━━━━━━╇━━━━━━━━━━━━━━━━━━━━━━━━╇━━━━━━━━━━━━━━━┩\n",
              "│ input_layer_3 (\u001b[38;5;33mInputLayer\u001b[0m)      │ (\u001b[38;5;45mNone\u001b[0m, \u001b[38;5;34m784\u001b[0m)            │             \u001b[38;5;34m0\u001b[0m │\n",
              "├─────────────────────────────────┼────────────────────────┼───────────────┤\n",
              "│ dense_15 (\u001b[38;5;33mDense\u001b[0m)                │ (\u001b[38;5;45mNone\u001b[0m, \u001b[38;5;34m32\u001b[0m)             │        \u001b[38;5;34m25,120\u001b[0m │\n",
              "├─────────────────────────────────┼────────────────────────┼───────────────┤\n",
              "│ dense_16 (\u001b[38;5;33mDense\u001b[0m)                │ (\u001b[38;5;45mNone\u001b[0m, \u001b[38;5;34m64\u001b[0m)             │         \u001b[38;5;34m2,112\u001b[0m │\n",
              "├─────────────────────────────────┼────────────────────────┼───────────────┤\n",
              "│ dense_17 (\u001b[38;5;33mDense\u001b[0m)                │ (\u001b[38;5;45mNone\u001b[0m, \u001b[38;5;34m128\u001b[0m)            │         \u001b[38;5;34m8,320\u001b[0m │\n",
              "├─────────────────────────────────┼────────────────────────┼───────────────┤\n",
              "│ dense_18 (\u001b[38;5;33mDense\u001b[0m)                │ (\u001b[38;5;45mNone\u001b[0m, \u001b[38;5;34m256\u001b[0m)            │        \u001b[38;5;34m33,024\u001b[0m │\n",
              "├─────────────────────────────────┼────────────────────────┼───────────────┤\n",
              "│ dense_19 (\u001b[38;5;33mDense\u001b[0m)                │ (\u001b[38;5;45mNone\u001b[0m, \u001b[38;5;34m784\u001b[0m)            │       \u001b[38;5;34m201,488\u001b[0m │\n",
              "└─────────────────────────────────┴────────────────────────┴───────────────┘\n"
            ]
          },
          "metadata": {},
          "output_type": "display_data"
        },
        {
          "data": {
            "text/html": [
              "<pre style=\"white-space:pre;overflow-x:auto;line-height:normal;font-family:Menlo,'DejaVu Sans Mono',consolas,'Courier New',monospace\"><span style=\"font-weight: bold\"> Total params: </span><span style=\"color: #00af00; text-decoration-color: #00af00\">270,064</span> (1.03 MB)\n",
              "</pre>\n"
            ],
            "text/plain": [
              "\u001b[1m Total params: \u001b[0m\u001b[38;5;34m270,064\u001b[0m (1.03 MB)\n"
            ]
          },
          "metadata": {},
          "output_type": "display_data"
        },
        {
          "data": {
            "text/html": [
              "<pre style=\"white-space:pre;overflow-x:auto;line-height:normal;font-family:Menlo,'DejaVu Sans Mono',consolas,'Courier New',monospace\"><span style=\"font-weight: bold\"> Trainable params: </span><span style=\"color: #00af00; text-decoration-color: #00af00\">270,064</span> (1.03 MB)\n",
              "</pre>\n"
            ],
            "text/plain": [
              "\u001b[1m Trainable params: \u001b[0m\u001b[38;5;34m270,064\u001b[0m (1.03 MB)\n"
            ]
          },
          "metadata": {},
          "output_type": "display_data"
        },
        {
          "data": {
            "text/html": [
              "<pre style=\"white-space:pre;overflow-x:auto;line-height:normal;font-family:Menlo,'DejaVu Sans Mono',consolas,'Courier New',monospace\"><span style=\"font-weight: bold\"> Non-trainable params: </span><span style=\"color: #00af00; text-decoration-color: #00af00\">0</span> (0.00 B)\n",
              "</pre>\n"
            ],
            "text/plain": [
              "\u001b[1m Non-trainable params: \u001b[0m\u001b[38;5;34m0\u001b[0m (0.00 B)\n"
            ]
          },
          "metadata": {},
          "output_type": "display_data"
        }
      ],
      "source": [
        "autoencoder.summary()"
      ]
    },
    {
      "cell_type": "code",
      "execution_count": 146,
      "id": "S6M0FzT-sdnd",
      "metadata": {
        "colab": {
          "base_uri": "https://localhost:8080/",
          "height": 824
        },
        "id": "S6M0FzT-sdnd",
        "outputId": "38099675-feec-4e20-b837-3056be5d074c"
      },
      "outputs": [
        {
          "data": {
            "image/png": "[encoded data removed]",
            "text/plain": [
              "<IPython.core.display.Image object>"
            ]
          },
          "execution_count": 146,
          "metadata": {},
          "output_type": "execute_result"
        }
      ],
      "source": [
        "plot_model(autoencoder, to_file='mlp-fashion-mnist-encode.png', show_shapes=True, dpi=84)"
      ]
    },
    {
      "cell_type": "markdown",
      "id": "7smhZJdOuZsl",
      "metadata": {
        "id": "7smhZJdOuZsl"
      },
      "source": [
        "### 4.5 Encoder model"
      ]
    },
    {
      "cell_type": "code",
      "execution_count": 147,
      "id": "I2Tky9kv0IQB",
      "metadata": {
        "id": "I2Tky9kv0IQB"
      },
      "outputs": [],
      "source": [
        "encoder = Model(input_img, encoded)"
      ]
    },
    {
      "cell_type": "markdown",
      "id": "nhKhJxhPrF0j",
      "metadata": {
        "id": "nhKhJxhPrF0j"
      },
      "source": [
        "### 4.6 Compile the autoencoder"
      ]
    },
    {
      "cell_type": "code",
      "execution_count": 148,
      "id": "5Seagk6bsuaO",
      "metadata": {
        "id": "5Seagk6bsuaO"
      },
      "outputs": [],
      "source": [
        "autoencoder.compile(optimizer='adam', loss='binary_crossentropy', metrics=['accuracy'])"
      ]
    },
    {
      "cell_type": "markdown",
      "id": "MwpW1hocswti",
      "metadata": {
        "id": "MwpW1hocswti"
      },
      "source": [
        "### 4.7 Fit the autoencoder"
      ]
    },
    {
      "cell_type": "code",
      "execution_count": 149,
      "id": "LzXx1qFatFIA",
      "metadata": {
        "colab": {
          "base_uri": "https://localhost:8080/"
        },
        "id": "LzXx1qFatFIA",
        "outputId": "3f716108-8b05-4e34-bcf9-3d42c3681882"
      },
      "outputs": [
        {
          "name": "stdout",
          "output_type": "stream",
          "text": [
            "Epoch 1/100\n",
            "\u001b[1m235/235\u001b[0m \u001b[32m━━━━━━━━━━━━━━━━━━━━\u001b[0m\u001b[37m\u001b[0m \u001b[1m6s\u001b[0m 21ms/step - accuracy: 0.0023 - loss: 0.4978 - val_accuracy: 0.0194 - val_loss: 0.3784\n",
            "Epoch 2/100\n",
            "\u001b[1m235/235\u001b[0m \u001b[32m━━━━━━━━━━━━━━━━━━━━\u001b[0m\u001b[37m\u001b[0m \u001b[1m5s\u001b[0m 19ms/step - accuracy: 0.0151 - loss: 0.3690 - val_accuracy: 0.0142 - val_loss: 0.3558\n",
            "Epoch 3/100\n",
            "\u001b[1m235/235\u001b[0m \u001b[32m━━━━━━━━━━━━━━━━━━━━\u001b[0m\u001b[37m\u001b[0m \u001b[1m5s\u001b[0m 19ms/step - accuracy: 0.0119 - loss: 0.3514 - val_accuracy: 0.0149 - val_loss: 0.3478\n",
            "Epoch 4/100\n",
            "\u001b[1m235/235\u001b[0m \u001b[32m━━━━━━━━━━━━━━━━━━━━\u001b[0m\u001b[37m\u001b[0m \u001b[1m6s\u001b[0m 22ms/step - accuracy: 0.0130 - loss: 0.3453 - val_accuracy: 0.0134 - val_loss: 0.3422\n",
            "Epoch 5/100\n",
            "\u001b[1m235/235\u001b[0m \u001b[32m━━━━━━━━━━━━━━━━━━━━\u001b[0m\u001b[37m\u001b[0m \u001b[1m9s\u001b[0m 19ms/step - accuracy: 0.0124 - loss: 0.3386 - val_accuracy: 0.0107 - val_loss: 0.3299\n",
            "Epoch 6/100\n",
            "\u001b[1m235/235\u001b[0m \u001b[32m━━━━━━━━━━━━━━━━━━━━\u001b[0m\u001b[37m\u001b[0m \u001b[1m5s\u001b[0m 21ms/step - accuracy: 0.0120 - loss: 0.3250 - val_accuracy: 0.0136 - val_loss: 0.3191\n",
            "Epoch 7/100\n",
            "\u001b[1m235/235\u001b[0m \u001b[32m━━━━━━━━━━━━━━━━━━━━\u001b[0m\u001b[37m\u001b[0m \u001b[1m4s\u001b[0m 17ms/step - accuracy: 0.0146 - loss: 0.3160 - val_accuracy: 0.0130 - val_loss: 0.3142\n",
            "Epoch 8/100\n",
            "\u001b[1m235/235\u001b[0m \u001b[32m━━━━━━━━━━━━━━━━━━━━\u001b[0m\u001b[37m\u001b[0m \u001b[1m5s\u001b[0m 21ms/step - accuracy: 0.0135 - loss: 0.3121 - val_accuracy: 0.0150 - val_loss: 0.3107\n",
            "Epoch 9/100\n",
            "\u001b[1m235/235\u001b[0m \u001b[32m━━━━━━━━━━━━━━━━━━━━\u001b[0m\u001b[37m\u001b[0m \u001b[1m4s\u001b[0m 18ms/step - accuracy: 0.0148 - loss: 0.3077 - val_accuracy: 0.0123 - val_loss: 0.3081\n",
            "Epoch 10/100\n",
            "\u001b[1m235/235\u001b[0m \u001b[32m━━━━━━━━━━━━━━━━━━━━\u001b[0m\u001b[37m\u001b[0m \u001b[1m4s\u001b[0m 18ms/step - accuracy: 0.0126 - loss: 0.3059 - val_accuracy: 0.0128 - val_loss: 0.3059\n",
            "Epoch 11/100\n",
            "\u001b[1m235/235\u001b[0m \u001b[32m━━━━━━━━━━━━━━━━━━━━\u001b[0m\u001b[37m\u001b[0m \u001b[1m5s\u001b[0m 22ms/step - accuracy: 0.0138 - loss: 0.3042 - val_accuracy: 0.0109 - val_loss: 0.3042\n",
            "Epoch 12/100\n",
            "\u001b[1m235/235\u001b[0m \u001b[32m━━━━━━━━━━━━━━━━━━━━\u001b[0m\u001b[37m\u001b[0m \u001b[1m4s\u001b[0m 18ms/step - accuracy: 0.0138 - loss: 0.3017 - val_accuracy: 0.0125 - val_loss: 0.3025\n",
            "Epoch 13/100\n",
            "\u001b[1m235/235\u001b[0m \u001b[32m━━━━━━━━━━━━━━━━━━━━\u001b[0m\u001b[37m\u001b[0m \u001b[1m5s\u001b[0m 17ms/step - accuracy: 0.0140 - loss: 0.2991 - val_accuracy: 0.0139 - val_loss: 0.3012\n",
            "Epoch 14/100\n",
            "\u001b[1m235/235\u001b[0m \u001b[32m━━━━━━━━━━━━━━━━━━━━\u001b[0m\u001b[37m\u001b[0m \u001b[1m6s\u001b[0m 22ms/step - accuracy: 0.0151 - loss: 0.2981 - val_accuracy: 0.0161 - val_loss: 0.3000\n",
            "Epoch 15/100\n",
            "\u001b[1m235/235\u001b[0m \u001b[32m━━━━━━━━━━━━━━━━━━━━\u001b[0m\u001b[37m\u001b[0m \u001b[1m10s\u001b[0m 22ms/step - accuracy: 0.0159 - loss: 0.2967 - val_accuracy: 0.0166 - val_loss: 0.2988\n",
            "Epoch 16/100\n",
            "\u001b[1m235/235\u001b[0m \u001b[32m━━━━━━━━━━━━━━━━━━━━\u001b[0m\u001b[37m\u001b[0m \u001b[1m4s\u001b[0m 19ms/step - accuracy: 0.0172 - loss: 0.2969 - val_accuracy: 0.0173 - val_loss: 0.2978\n",
            "Epoch 17/100\n",
            "\u001b[1m235/235\u001b[0m \u001b[32m━━━━━━━━━━━━━━━━━━━━\u001b[0m\u001b[37m\u001b[0m \u001b[1m4s\u001b[0m 18ms/step - accuracy: 0.0168 - loss: 0.2947 - val_accuracy: 0.0146 - val_loss: 0.2970\n",
            "Epoch 18/100\n",
            "\u001b[1m235/235\u001b[0m \u001b[32m━━━━━━━━━━━━━━━━━━━━\u001b[0m\u001b[37m\u001b[0m \u001b[1m5s\u001b[0m 22ms/step - accuracy: 0.0179 - loss: 0.2944 - val_accuracy: 0.0156 - val_loss: 0.2960\n",
            "Epoch 19/100\n",
            "\u001b[1m235/235\u001b[0m \u001b[32m━━━━━━━━━━━━━━━━━━━━\u001b[0m\u001b[37m\u001b[0m \u001b[1m4s\u001b[0m 17ms/step - accuracy: 0.0196 - loss: 0.2936 - val_accuracy: 0.0171 - val_loss: 0.2950\n",
            "Epoch 20/100\n",
            "\u001b[1m235/235\u001b[0m \u001b[32m━━━━━━━━━━━━━━━━━━━━\u001b[0m\u001b[37m\u001b[0m \u001b[1m5s\u001b[0m 20ms/step - accuracy: 0.0198 - loss: 0.2929 - val_accuracy: 0.0179 - val_loss: 0.2944\n",
            "Epoch 21/100\n",
            "\u001b[1m235/235\u001b[0m \u001b[32m━━━━━━━━━━━━━━━━━━━━\u001b[0m\u001b[37m\u001b[0m \u001b[1m5s\u001b[0m 20ms/step - accuracy: 0.0197 - loss: 0.2918 - val_accuracy: 0.0165 - val_loss: 0.2937\n",
            "Epoch 22/100\n",
            "\u001b[1m235/235\u001b[0m \u001b[32m━━━━━━━━━━━━━━━━━━━━\u001b[0m\u001b[37m\u001b[0m \u001b[1m4s\u001b[0m 18ms/step - accuracy: 0.0202 - loss: 0.2911 - val_accuracy: 0.0169 - val_loss: 0.2931\n",
            "Epoch 23/100\n",
            "\u001b[1m235/235\u001b[0m \u001b[32m━━━━━━━━━━━━━━━━━━━━\u001b[0m\u001b[37m\u001b[0m \u001b[1m6s\u001b[0m 22ms/step - accuracy: 0.0184 - loss: 0.2906 - val_accuracy: 0.0206 - val_loss: 0.2925\n",
            "Epoch 24/100\n",
            "\u001b[1m235/235\u001b[0m \u001b[32m━━━━━━━━━━━━━━━━━━━━\u001b[0m\u001b[37m\u001b[0m \u001b[1m9s\u001b[0m 19ms/step - accuracy: 0.0206 - loss: 0.2898 - val_accuracy: 0.0185 - val_loss: 0.2920\n",
            "Epoch 25/100\n",
            "\u001b[1m235/235\u001b[0m \u001b[32m━━━━━━━━━━━━━━━━━━━━\u001b[0m\u001b[37m\u001b[0m \u001b[1m5s\u001b[0m 23ms/step - accuracy: 0.0218 - loss: 0.2899 - val_accuracy: 0.0186 - val_loss: 0.2915\n",
            "Epoch 26/100\n",
            "\u001b[1m235/235\u001b[0m \u001b[32m━━━━━━━━━━━━━━━━━━━━\u001b[0m\u001b[37m\u001b[0m \u001b[1m10s\u001b[0m 22ms/step - accuracy: 0.0207 - loss: 0.2891 - val_accuracy: 0.0184 - val_loss: 0.2910\n",
            "Epoch 27/100\n",
            "\u001b[1m235/235\u001b[0m \u001b[32m━━━━━━━━━━━━━━━━━━━━\u001b[0m\u001b[37m\u001b[0m \u001b[1m4s\u001b[0m 18ms/step - accuracy: 0.0218 - loss: 0.2886 - val_accuracy: 0.0203 - val_loss: 0.2906\n",
            "Epoch 28/100\n",
            "\u001b[1m235/235\u001b[0m \u001b[32m━━━━━━━━━━━━━━━━━━━━\u001b[0m\u001b[37m\u001b[0m \u001b[1m5s\u001b[0m 18ms/step - accuracy: 0.0228 - loss: 0.2877 - val_accuracy: 0.0197 - val_loss: 0.2902\n",
            "Epoch 29/100\n",
            "\u001b[1m235/235\u001b[0m \u001b[32m━━━━━━━━━━━━━━━━━━━━\u001b[0m\u001b[37m\u001b[0m \u001b[1m6s\u001b[0m 20ms/step - accuracy: 0.0215 - loss: 0.2874 - val_accuracy: 0.0199 - val_loss: 0.2898\n",
            "Epoch 30/100\n",
            "\u001b[1m235/235\u001b[0m \u001b[32m━━━━━━━━━━━━━━━━━━━━\u001b[0m\u001b[37m\u001b[0m \u001b[1m4s\u001b[0m 18ms/step - accuracy: 0.0224 - loss: 0.2871 - val_accuracy: 0.0232 - val_loss: 0.2893\n",
            "Epoch 31/100\n",
            "\u001b[1m235/235\u001b[0m \u001b[32m━━━━━━━━━━━━━━━━━━━━\u001b[0m\u001b[37m\u001b[0m \u001b[1m6s\u001b[0m 22ms/step - accuracy: 0.0225 - loss: 0.2866 - val_accuracy: 0.0222 - val_loss: 0.2890\n",
            "Epoch 32/100\n",
            "\u001b[1m235/235\u001b[0m \u001b[32m━━━━━━━━━━━━━━━━━━━━\u001b[0m\u001b[37m\u001b[0m \u001b[1m9s\u001b[0m 19ms/step - accuracy: 0.0226 - loss: 0.2863 - val_accuracy: 0.0212 - val_loss: 0.2888\n",
            "Epoch 33/100\n",
            "\u001b[1m235/235\u001b[0m \u001b[32m━━━━━━━━━━━━━━━━━━━━\u001b[0m\u001b[37m\u001b[0m \u001b[1m5s\u001b[0m 21ms/step - accuracy: 0.0239 - loss: 0.2864 - val_accuracy: 0.0223 - val_loss: 0.2885\n",
            "Epoch 34/100\n",
            "\u001b[1m235/235\u001b[0m \u001b[32m━━━━━━━━━━━━━━━━━━━━\u001b[0m\u001b[37m\u001b[0m \u001b[1m4s\u001b[0m 18ms/step - accuracy: 0.0226 - loss: 0.2859 - val_accuracy: 0.0233 - val_loss: 0.2881\n",
            "Epoch 35/100\n",
            "\u001b[1m235/235\u001b[0m \u001b[32m━━━━━━━━━━━━━━━━━━━━\u001b[0m\u001b[37m\u001b[0m \u001b[1m5s\u001b[0m 22ms/step - accuracy: 0.0238 - loss: 0.2854 - val_accuracy: 0.0229 - val_loss: 0.2879\n",
            "Epoch 36/100\n",
            "\u001b[1m235/235\u001b[0m \u001b[32m━━━━━━━━━━━━━━━━━━━━\u001b[0m\u001b[37m\u001b[0m \u001b[1m9s\u001b[0m 18ms/step - accuracy: 0.0235 - loss: 0.2850 - val_accuracy: 0.0227 - val_loss: 0.2876\n",
            "Epoch 37/100\n",
            "\u001b[1m235/235\u001b[0m \u001b[32m━━━━━━━━━━━━━━━━━━━━\u001b[0m\u001b[37m\u001b[0m \u001b[1m6s\u001b[0m 22ms/step - accuracy: 0.0255 - loss: 0.2855 - val_accuracy: 0.0233 - val_loss: 0.2873\n",
            "Epoch 38/100\n",
            "\u001b[1m235/235\u001b[0m \u001b[32m━━━━━━━━━━━━━━━━━━━━\u001b[0m\u001b[37m\u001b[0m \u001b[1m4s\u001b[0m 18ms/step - accuracy: 0.0256 - loss: 0.2847 - val_accuracy: 0.0230 - val_loss: 0.2870\n",
            "Epoch 39/100\n",
            "\u001b[1m235/235\u001b[0m \u001b[32m━━━━━━━━━━━━━━━━━━━━\u001b[0m\u001b[37m\u001b[0m \u001b[1m5s\u001b[0m 21ms/step - accuracy: 0.0246 - loss: 0.2850 - val_accuracy: 0.0236 - val_loss: 0.2868\n",
            "Epoch 40/100\n",
            "\u001b[1m235/235\u001b[0m \u001b[32m━━━━━━━━━━━━━━━━━━━━\u001b[0m\u001b[37m\u001b[0m \u001b[1m5s\u001b[0m 19ms/step - accuracy: 0.0255 - loss: 0.2836 - val_accuracy: 0.0246 - val_loss: 0.2865\n",
            "Epoch 41/100\n",
            "\u001b[1m235/235\u001b[0m \u001b[32m━━━━━━━━━━━━━━━━━━━━\u001b[0m\u001b[37m\u001b[0m \u001b[1m4s\u001b[0m 18ms/step - accuracy: 0.0238 - loss: 0.2839 - val_accuracy: 0.0251 - val_loss: 0.2861\n",
            "Epoch 42/100\n",
            "\u001b[1m235/235\u001b[0m \u001b[32m━━━━━━━━━━━━━━━━━━━━\u001b[0m\u001b[37m\u001b[0m \u001b[1m5s\u001b[0m 23ms/step - accuracy: 0.0264 - loss: 0.2836 - val_accuracy: 0.0250 - val_loss: 0.2858\n",
            "Epoch 43/100\n",
            "\u001b[1m235/235\u001b[0m \u001b[32m━━━━━━━━━━━━━━━━━━━━\u001b[0m\u001b[37m\u001b[0m \u001b[1m4s\u001b[0m 18ms/step - accuracy: 0.0260 - loss: 0.2836 - val_accuracy: 0.0263 - val_loss: 0.2855\n",
            "Epoch 44/100\n",
            "\u001b[1m235/235\u001b[0m \u001b[32m━━━━━━━━━━━━━━━━━━━━\u001b[0m\u001b[37m\u001b[0m \u001b[1m4s\u001b[0m 18ms/step - accuracy: 0.0254 - loss: 0.2824 - val_accuracy: 0.0235 - val_loss: 0.2852\n",
            "Epoch 45/100\n",
            "\u001b[1m235/235\u001b[0m \u001b[32m━━━━━━━━━━━━━━━━━━━━\u001b[0m\u001b[37m\u001b[0m \u001b[1m6s\u001b[0m 23ms/step - accuracy: 0.0271 - loss: 0.2827 - val_accuracy: 0.0265 - val_loss: 0.2849\n",
            "Epoch 46/100\n",
            "\u001b[1m235/235\u001b[0m \u001b[32m━━━━━━━━━━━━━━━━━━━━\u001b[0m\u001b[37m\u001b[0m \u001b[1m4s\u001b[0m 18ms/step - accuracy: 0.0268 - loss: 0.2822 - val_accuracy: 0.0240 - val_loss: 0.2846\n",
            "Epoch 47/100\n",
            "\u001b[1m235/235\u001b[0m \u001b[32m━━━━━━━━━━━━━━━━━━━━\u001b[0m\u001b[37m\u001b[0m \u001b[1m5s\u001b[0m 19ms/step - accuracy: 0.0269 - loss: 0.2820 - val_accuracy: 0.0258 - val_loss: 0.2843\n",
            "Epoch 48/100\n",
            "\u001b[1m235/235\u001b[0m \u001b[32m━━━━━━━━━━━━━━━━━━━━\u001b[0m\u001b[37m\u001b[0m \u001b[1m5s\u001b[0m 21ms/step - accuracy: 0.0267 - loss: 0.2819 - val_accuracy: 0.0268 - val_loss: 0.2841\n",
            "Epoch 49/100\n",
            "\u001b[1m235/235\u001b[0m \u001b[32m━━━━━━━━━━━━━━━━━━━━\u001b[0m\u001b[37m\u001b[0m \u001b[1m5s\u001b[0m 19ms/step - accuracy: 0.0275 - loss: 0.2817 - val_accuracy: 0.0257 - val_loss: 0.2837\n",
            "Epoch 50/100\n",
            "\u001b[1m235/235\u001b[0m \u001b[32m━━━━━━━━━━━━━━━━━━━━\u001b[0m\u001b[37m\u001b[0m \u001b[1m5s\u001b[0m 23ms/step - accuracy: 0.0274 - loss: 0.2814 - val_accuracy: 0.0273 - val_loss: 0.2835\n",
            "Epoch 51/100\n",
            "\u001b[1m235/235\u001b[0m \u001b[32m━━━━━━━━━━━━━━━━━━━━\u001b[0m\u001b[37m\u001b[0m \u001b[1m9s\u001b[0m 18ms/step - accuracy: 0.0272 - loss: 0.2814 - val_accuracy: 0.0301 - val_loss: 0.2833\n",
            "Epoch 52/100\n",
            "\u001b[1m235/235\u001b[0m \u001b[32m━━━━━━━━━━━━━━━━━━━━\u001b[0m\u001b[37m\u001b[0m \u001b[1m5s\u001b[0m 22ms/step - accuracy: 0.0280 - loss: 0.2804 - val_accuracy: 0.0281 - val_loss: 0.2830\n",
            "Epoch 53/100\n",
            "\u001b[1m235/235\u001b[0m \u001b[32m━━━━━━━━━━━━━━━━━━━━\u001b[0m\u001b[37m\u001b[0m \u001b[1m10s\u001b[0m 21ms/step - accuracy: 0.0297 - loss: 0.2806 - val_accuracy: 0.0272 - val_loss: 0.2829\n",
            "Epoch 54/100\n",
            "\u001b[1m235/235\u001b[0m \u001b[32m━━━━━━━━━━━━━━━━━━━━\u001b[0m\u001b[37m\u001b[0m \u001b[1m5s\u001b[0m 19ms/step - accuracy: 0.0282 - loss: 0.2801 - val_accuracy: 0.0281 - val_loss: 0.2830\n",
            "Epoch 55/100\n",
            "\u001b[1m235/235\u001b[0m \u001b[32m━━━━━━━━━━━━━━━━━━━━\u001b[0m\u001b[37m\u001b[0m \u001b[1m4s\u001b[0m 17ms/step - accuracy: 0.0269 - loss: 0.2799 - val_accuracy: 0.0291 - val_loss: 0.2824\n",
            "Epoch 56/100\n",
            "\u001b[1m235/235\u001b[0m \u001b[32m━━━━━━━━━━━━━━━━━━━━\u001b[0m\u001b[37m\u001b[0m \u001b[1m5s\u001b[0m 22ms/step - accuracy: 0.0280 - loss: 0.2804 - val_accuracy: 0.0309 - val_loss: 0.2822\n",
            "Epoch 57/100\n",
            "\u001b[1m235/235\u001b[0m \u001b[32m━━━━━━━━━━━━━━━━━━━━\u001b[0m\u001b[37m\u001b[0m \u001b[1m4s\u001b[0m 18ms/step - accuracy: 0.0295 - loss: 0.2796 - val_accuracy: 0.0297 - val_loss: 0.2821\n",
            "Epoch 58/100\n",
            "\u001b[1m235/235\u001b[0m \u001b[32m━━━━━━━━━━━━━━━━━━━━\u001b[0m\u001b[37m\u001b[0m \u001b[1m4s\u001b[0m 18ms/step - accuracy: 0.0299 - loss: 0.2795 - val_accuracy: 0.0303 - val_loss: 0.2818\n",
            "Epoch 59/100\n",
            "\u001b[1m235/235\u001b[0m \u001b[32m━━━━━━━━━━━━━━━━━━━━\u001b[0m\u001b[37m\u001b[0m \u001b[1m6s\u001b[0m 22ms/step - accuracy: 0.0296 - loss: 0.2789 - val_accuracy: 0.0312 - val_loss: 0.2816\n",
            "Epoch 60/100\n",
            "\u001b[1m235/235\u001b[0m \u001b[32m━━━━━━━━━━━━━━━━━━━━\u001b[0m\u001b[37m\u001b[0m \u001b[1m4s\u001b[0m 18ms/step - accuracy: 0.0279 - loss: 0.2785 - val_accuracy: 0.0292 - val_loss: 0.2813\n",
            "Epoch 61/100\n",
            "\u001b[1m235/235\u001b[0m \u001b[32m━━━━━━━━━━━━━━━━━━━━\u001b[0m\u001b[37m\u001b[0m \u001b[1m6s\u001b[0m 22ms/step - accuracy: 0.0299 - loss: 0.2787 - val_accuracy: 0.0302 - val_loss: 0.2814\n",
            "Epoch 62/100\n",
            "\u001b[1m235/235\u001b[0m \u001b[32m━━━━━━━━━━━━━━━━━━━━\u001b[0m\u001b[37m\u001b[0m \u001b[1m4s\u001b[0m 19ms/step - accuracy: 0.0297 - loss: 0.2790 - val_accuracy: 0.0336 - val_loss: 0.2811\n",
            "Epoch 63/100\n",
            "\u001b[1m235/235\u001b[0m \u001b[32m━━━━━━━━━━━━━━━━━━━━\u001b[0m\u001b[37m\u001b[0m \u001b[1m4s\u001b[0m 18ms/step - accuracy: 0.0296 - loss: 0.2779 - val_accuracy: 0.0302 - val_loss: 0.2808\n",
            "Epoch 64/100\n",
            "\u001b[1m235/235\u001b[0m \u001b[32m━━━━━━━━━━━━━━━━━━━━\u001b[0m\u001b[37m\u001b[0m \u001b[1m5s\u001b[0m 23ms/step - accuracy: 0.0309 - loss: 0.2778 - val_accuracy: 0.0313 - val_loss: 0.2808\n",
            "Epoch 65/100\n",
            "\u001b[1m235/235\u001b[0m \u001b[32m━━━━━━━━━━━━━━━━━━━━\u001b[0m\u001b[37m\u001b[0m \u001b[1m4s\u001b[0m 18ms/step - accuracy: 0.0298 - loss: 0.2784 - val_accuracy: 0.0305 - val_loss: 0.2805\n",
            "Epoch 66/100\n",
            "\u001b[1m235/235\u001b[0m \u001b[32m━━━━━━━━━━━━━━━━━━━━\u001b[0m\u001b[37m\u001b[0m \u001b[1m4s\u001b[0m 18ms/step - accuracy: 0.0314 - loss: 0.2780 - val_accuracy: 0.0320 - val_loss: 0.2803\n",
            "Epoch 67/100\n",
            "\u001b[1m235/235\u001b[0m \u001b[32m━━━━━━━━━━━━━━━━━━━━\u001b[0m\u001b[37m\u001b[0m \u001b[1m6s\u001b[0m 24ms/step - accuracy: 0.0301 - loss: 0.2780 - val_accuracy: 0.0308 - val_loss: 0.2803\n",
            "Epoch 68/100\n",
            "\u001b[1m235/235\u001b[0m \u001b[32m━━━━━━━━━━━━━━━━━━━━\u001b[0m\u001b[37m\u001b[0m \u001b[1m9s\u001b[0m 20ms/step - accuracy: 0.0325 - loss: 0.2772 - val_accuracy: 0.0295 - val_loss: 0.2799\n",
            "Epoch 69/100\n",
            "\u001b[1m235/235\u001b[0m \u001b[32m━━━━━━━━━━━━━━━━━━━━\u001b[0m\u001b[37m\u001b[0m \u001b[1m5s\u001b[0m 21ms/step - accuracy: 0.0310 - loss: 0.2781 - val_accuracy: 0.0312 - val_loss: 0.2799\n",
            "Epoch 70/100\n",
            "\u001b[1m235/235\u001b[0m \u001b[32m━━━━━━━━━━━━━━━━━━━━\u001b[0m\u001b[37m\u001b[0m \u001b[1m4s\u001b[0m 18ms/step - accuracy: 0.0314 - loss: 0.2772 - val_accuracy: 0.0299 - val_loss: 0.2797\n",
            "Epoch 71/100\n",
            "\u001b[1m235/235\u001b[0m \u001b[32m━━━━━━━━━━━━━━━━━━━━\u001b[0m\u001b[37m\u001b[0m \u001b[1m5s\u001b[0m 23ms/step - accuracy: 0.0310 - loss: 0.2765 - val_accuracy: 0.0308 - val_loss: 0.2796\n",
            "Epoch 72/100\n",
            "\u001b[1m235/235\u001b[0m \u001b[32m━━━━━━━━━━━━━━━━━━━━\u001b[0m\u001b[37m\u001b[0m \u001b[1m4s\u001b[0m 18ms/step - accuracy: 0.0331 - loss: 0.2773 - val_accuracy: 0.0327 - val_loss: 0.2798\n",
            "Epoch 73/100\n",
            "\u001b[1m235/235\u001b[0m \u001b[32m━━━━━━━━━━━━━━━━━━━━\u001b[0m\u001b[37m\u001b[0m \u001b[1m4s\u001b[0m 18ms/step - accuracy: 0.0321 - loss: 0.2768 - val_accuracy: 0.0323 - val_loss: 0.2796\n",
            "Epoch 74/100\n",
            "\u001b[1m235/235\u001b[0m \u001b[32m━━━━━━━━━━━━━━━━━━━━\u001b[0m\u001b[37m\u001b[0m \u001b[1m6s\u001b[0m 22ms/step - accuracy: 0.0325 - loss: 0.2772 - val_accuracy: 0.0324 - val_loss: 0.2792\n",
            "Epoch 75/100\n",
            "\u001b[1m235/235\u001b[0m \u001b[32m━━━━━━━━━━━━━━━━━━━━\u001b[0m\u001b[37m\u001b[0m \u001b[1m4s\u001b[0m 18ms/step - accuracy: 0.0330 - loss: 0.2772 - val_accuracy: 0.0319 - val_loss: 0.2791\n",
            "Epoch 76/100\n",
            "\u001b[1m235/235\u001b[0m \u001b[32m━━━━━━━━━━━━━━━━━━━━\u001b[0m\u001b[37m\u001b[0m \u001b[1m5s\u001b[0m 22ms/step - accuracy: 0.0331 - loss: 0.2765 - val_accuracy: 0.0298 - val_loss: 0.2791\n",
            "Epoch 77/100\n",
            "\u001b[1m235/235\u001b[0m \u001b[32m━━━━━━━━━━━━━━━━━━━━\u001b[0m\u001b[37m\u001b[0m \u001b[1m9s\u001b[0m 18ms/step - accuracy: 0.0340 - loss: 0.2767 - val_accuracy: 0.0331 - val_loss: 0.2789\n",
            "Epoch 78/100\n",
            "\u001b[1m235/235\u001b[0m \u001b[32m━━━━━━━━━━━━━━━━━━━━\u001b[0m\u001b[37m\u001b[0m \u001b[1m5s\u001b[0m 23ms/step - accuracy: 0.0335 - loss: 0.2764 - val_accuracy: 0.0331 - val_loss: 0.2788\n",
            "Epoch 79/100\n",
            "\u001b[1m235/235\u001b[0m \u001b[32m━━━━━━━━━━━━━━━━━━━━\u001b[0m\u001b[37m\u001b[0m \u001b[1m10s\u001b[0m 20ms/step - accuracy: 0.0345 - loss: 0.2765 - val_accuracy: 0.0327 - val_loss: 0.2790\n",
            "Epoch 80/100\n",
            "\u001b[1m235/235\u001b[0m \u001b[32m━━━━━━━━━━━━━━━━━━━━\u001b[0m\u001b[37m\u001b[0m \u001b[1m5s\u001b[0m 21ms/step - accuracy: 0.0338 - loss: 0.2761 - val_accuracy: 0.0329 - val_loss: 0.2789\n",
            "Epoch 81/100\n",
            "\u001b[1m235/235\u001b[0m \u001b[32m━━━━━━━━━━━━━━━━━━━━\u001b[0m\u001b[37m\u001b[0m \u001b[1m5s\u001b[0m 19ms/step - accuracy: 0.0341 - loss: 0.2762 - val_accuracy: 0.0309 - val_loss: 0.2785\n",
            "Epoch 82/100\n",
            "\u001b[1m235/235\u001b[0m \u001b[32m━━━━━━━━━━━━━━━━━━━━\u001b[0m\u001b[37m\u001b[0m \u001b[1m6s\u001b[0m 24ms/step - accuracy: 0.0351 - loss: 0.2759 - val_accuracy: 0.0333 - val_loss: 0.2785\n",
            "Epoch 83/100\n",
            "\u001b[1m235/235\u001b[0m \u001b[32m━━━━━━━━━━━━━━━━━━━━\u001b[0m\u001b[37m\u001b[0m \u001b[1m4s\u001b[0m 18ms/step - accuracy: 0.0348 - loss: 0.2754 - val_accuracy: 0.0348 - val_loss: 0.2786\n",
            "Epoch 84/100\n",
            "\u001b[1m235/235\u001b[0m \u001b[32m━━━━━━━━━━━━━━━━━━━━\u001b[0m\u001b[37m\u001b[0m \u001b[1m4s\u001b[0m 18ms/step - accuracy: 0.0353 - loss: 0.2755 - val_accuracy: 0.0329 - val_loss: 0.2782\n",
            "Epoch 85/100\n",
            "\u001b[1m235/235\u001b[0m \u001b[32m━━━━━━━━━━━━━━━━━━━━\u001b[0m\u001b[37m\u001b[0m \u001b[1m6s\u001b[0m 23ms/step - accuracy: 0.0353 - loss: 0.2751 - val_accuracy: 0.0350 - val_loss: 0.2782\n",
            "Epoch 86/100\n",
            "\u001b[1m235/235\u001b[0m \u001b[32m━━━━━━━━━━━━━━━━━━━━\u001b[0m\u001b[37m\u001b[0m \u001b[1m4s\u001b[0m 18ms/step - accuracy: 0.0374 - loss: 0.2748 - val_accuracy: 0.0349 - val_loss: 0.2780\n",
            "Epoch 87/100\n",
            "\u001b[1m235/235\u001b[0m \u001b[32m━━━━━━━━━━━━━━━━━━━━\u001b[0m\u001b[37m\u001b[0m \u001b[1m5s\u001b[0m 22ms/step - accuracy: 0.0357 - loss: 0.2752 - val_accuracy: 0.0355 - val_loss: 0.2781\n",
            "Epoch 88/100\n",
            "\u001b[1m235/235\u001b[0m \u001b[32m━━━━━━━━━━━━━━━━━━━━\u001b[0m\u001b[37m\u001b[0m \u001b[1m10s\u001b[0m 20ms/step - accuracy: 0.0359 - loss: 0.2754 - val_accuracy: 0.0351 - val_loss: 0.2778\n",
            "Epoch 89/100\n",
            "\u001b[1m235/235\u001b[0m \u001b[32m━━━━━━━━━━━━━━━━━━━━\u001b[0m\u001b[37m\u001b[0m \u001b[1m6s\u001b[0m 23ms/step - accuracy: 0.0369 - loss: 0.2750 - val_accuracy: 0.0316 - val_loss: 0.2780\n",
            "Epoch 90/100\n",
            "\u001b[1m235/235\u001b[0m \u001b[32m━━━━━━━━━━━━━━━━━━━━\u001b[0m\u001b[37m\u001b[0m \u001b[1m10s\u001b[0m 22ms/step - accuracy: 0.0353 - loss: 0.2749 - val_accuracy: 0.0344 - val_loss: 0.2778\n",
            "Epoch 91/100\n",
            "\u001b[1m235/235\u001b[0m \u001b[32m━━━━━━━━━━━━━━━━━━━━\u001b[0m\u001b[37m\u001b[0m \u001b[1m10s\u001b[0m 19ms/step - accuracy: 0.0356 - loss: 0.2753 - val_accuracy: 0.0329 - val_loss: 0.2776\n",
            "Epoch 92/100\n",
            "\u001b[1m235/235\u001b[0m \u001b[32m━━━━━━━━━━━━━━━━━━━━\u001b[0m\u001b[37m\u001b[0m \u001b[1m6s\u001b[0m 24ms/step - accuracy: 0.0358 - loss: 0.2749 - val_accuracy: 0.0362 - val_loss: 0.2777\n",
            "Epoch 93/100\n",
            "\u001b[1m235/235\u001b[0m \u001b[32m━━━━━━━━━━━━━━━━━━━━\u001b[0m\u001b[37m\u001b[0m \u001b[1m10s\u001b[0m 23ms/step - accuracy: 0.0359 - loss: 0.2755 - val_accuracy: 0.0363 - val_loss: 0.2774\n",
            "Epoch 94/100\n",
            "\u001b[1m235/235\u001b[0m \u001b[32m━━━━━━━━━━━━━━━━━━━━\u001b[0m\u001b[37m\u001b[0m \u001b[1m9s\u001b[0m 18ms/step - accuracy: 0.0364 - loss: 0.2750 - val_accuracy: 0.0344 - val_loss: 0.2774\n",
            "Epoch 95/100\n",
            "\u001b[1m235/235\u001b[0m \u001b[32m━━━━━━━━━━━━━━━━━━━━\u001b[0m\u001b[37m\u001b[0m \u001b[1m5s\u001b[0m 23ms/step - accuracy: 0.0364 - loss: 0.2748 - val_accuracy: 0.0360 - val_loss: 0.2773\n",
            "Epoch 96/100\n",
            "\u001b[1m235/235\u001b[0m \u001b[32m━━━━━━━━━━━━━━━━━━━━\u001b[0m\u001b[37m\u001b[0m \u001b[1m9s\u001b[0m 20ms/step - accuracy: 0.0376 - loss: 0.2745 - val_accuracy: 0.0352 - val_loss: 0.2773\n",
            "Epoch 97/100\n",
            "\u001b[1m235/235\u001b[0m \u001b[32m━━━━━━━━━━━━━━━━━━━━\u001b[0m\u001b[37m\u001b[0m \u001b[1m5s\u001b[0m 21ms/step - accuracy: 0.0367 - loss: 0.2752 - val_accuracy: 0.0341 - val_loss: 0.2771\n",
            "Epoch 98/100\n",
            "\u001b[1m235/235\u001b[0m \u001b[32m━━━━━━━━━━━━━━━━━━━━\u001b[0m\u001b[37m\u001b[0m \u001b[1m4s\u001b[0m 18ms/step - accuracy: 0.0372 - loss: 0.2747 - val_accuracy: 0.0337 - val_loss: 0.2770\n",
            "Epoch 99/100\n",
            "\u001b[1m235/235\u001b[0m \u001b[32m━━━━━━━━━━━━━━━━━━━━\u001b[0m\u001b[37m\u001b[0m \u001b[1m6s\u001b[0m 23ms/step - accuracy: 0.0366 - loss: 0.2748 - val_accuracy: 0.0353 - val_loss: 0.2770\n",
            "Epoch 100/100\n",
            "\u001b[1m235/235\u001b[0m \u001b[32m━━━━━━━━━━━━━━━━━━━━\u001b[0m\u001b[37m\u001b[0m \u001b[1m4s\u001b[0m 18ms/step - accuracy: 0.0380 - loss: 0.2746 - val_accuracy: 0.0385 - val_loss: 0.2770\n"
          ]
        },
        {
          "data": {
            "text/plain": [
              "<keras.src.callbacks.history.History at 0x78cd622fb3e0>"
            ]
          },
          "execution_count": 149,
          "metadata": {},
          "output_type": "execute_result"
        }
      ],
      "source": [
        "autoencoder.fit(train_X1, train_X1,\n",
        "                epochs=100,\n",
        "                batch_size=256,\n",
        "                shuffle=True,\n",
        "                validation_data=(test_X1, test_X1),\n",
        "                verbose=1)"
      ]
    },
    {
      "cell_type": "markdown",
      "id": "c2c8e434-cb5a-45df-886e-7155311952ae",
      "metadata": {
        "id": "c2c8e434-cb5a-45df-886e-7155311952ae"
      },
      "source": [
        "## 5.0 Evaluation"
      ]
    },
    {
      "cell_type": "code",
      "execution_count": 150,
      "id": "P4ngmd7BtaKQ",
      "metadata": {
        "colab": {
          "base_uri": "https://localhost:8080/"
        },
        "id": "P4ngmd7BtaKQ",
        "outputId": "89b66a6c-db9e-4528-e913-f9b7c0087b3d"
      },
      "outputs": [
        {
          "name": "stdout",
          "output_type": "stream",
          "text": [
            "\u001b[1m313/313\u001b[0m \u001b[32m━━━━━━━━━━━━━━━━━━━━\u001b[0m\u001b[37m\u001b[0m \u001b[1m0s\u001b[0m 1ms/step   \n",
            "\u001b[1m313/313\u001b[0m \u001b[32m━━━━━━━━━━━━━━━━━━━━\u001b[0m\u001b[37m\u001b[0m \u001b[1m1s\u001b[0m 2ms/step\n"
          ]
        }
      ],
      "source": [
        "encoded_images = encoder.predict(test_X1)\n",
        "predicted = autoencoder.predict(test_X1)"
      ]
    },
    {
      "cell_type": "code",
      "execution_count": 151,
      "id": "9qxUP3kix7LW",
      "metadata": {
        "colab": {
          "base_uri": "https://localhost:8080/",
          "height": 515
        },
        "id": "9qxUP3kix7LW",
        "outputId": "363a40c7-2485-403a-9831-a7204feac147"
      },
      "outputs": [
        {
          "data": {
            "image/png": "[encoded data removed]",
            "text/plain": [
              "<Figure size 4000x600 with 30 Axes>"
            ]
          },
          "metadata": {},
          "output_type": "display_data"
        }
      ],
      "source": [
        "plt.figure(figsize=(40, 6))\n",
        "for i in range(10):\n",
        "  ax = plt.subplot(3, 20, i + 1)\n",
        "  plt.imshow(test_X1[i].reshape(28, 28), cmap='gray')\n",
        "  plt.title(\"Original: {}\".format(i))\n",
        "  plt.axis('off')\n",
        "\n",
        "  ax = plt.subplot(3, 20, i + 1 + 20)\n",
        "  plt.imshow(encoded_images[i].reshape(8, 4), cmap='gray')\n",
        "  plt.title(\"Encoded: {}\".format(i))\n",
        "  plt.axis('off')\n",
        "\n",
        "  ax = plt.subplot(3, 20, 2 * 20 + i + 1)\n",
        "  plt.imshow(predicted[i].reshape(28, 28), cmap='gray')\n",
        "  plt.title(\"Decoded: {}\".format(i))\n",
        "  plt.axis('off')\n",
        "plt.show()"
      ]
    },
    {
      "cell_type": "markdown",
      "id": "1413d4ee-7226-4635-a145-696c89266523",
      "metadata": {
        "id": "1413d4ee-7226-4635-a145-696c89266523"
      },
      "source": [
        "## 6.0 Deployment"
      ]
    }
  ],
  "metadata": {
    "colab": {
      "provenance": []
    },
    "kernelspec": {
      "display_name": "Python 3 (ipykernel)",
      "language": "python",
      "name": "python3"
    },
    "language_info": {
      "codemirror_mode": {
        "name": "ipython",
        "version": 3
      },
      "file_extension": ".py",
      "mimetype": "text/x-python",
      "name": "python",
      "nbconvert_exporter": "python",
      "pygments_lexer": "ipython3",
      "version": "3.12.3"
    }
  },
  "nbformat": 4,
  "nbformat_minor": 5
}
