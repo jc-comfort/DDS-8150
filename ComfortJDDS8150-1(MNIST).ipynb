{
  "cells": [
    {
      "cell_type": "markdown",
      "id": "66ccfc5d-e575-4a84-99d0-f3a33e04c73e",
      "metadata": {
        "id": "66ccfc5d-e575-4a84-99d0-f3a33e04c73e"
      },
      "source": [
        "MNIST Neural Networks and Deep Learning"
      ]
    },
    {
      "cell_type": "markdown",
      "id": "097fea59-08ac-4ee8-99be-4caad5ec27f0",
      "metadata": {
        "id": "097fea59-08ac-4ee8-99be-4caad5ec27f0"
      },
      "source": [
        "## 1.0 Study purpose"
      ]
    },
    {
      "cell_type": "markdown",
      "id": "TUIc_ChjmBMA",
      "metadata": {
        "id": "TUIc_ChjmBMA"
      },
      "source": [
        "Mine MNIST data using deep neural networks for deep learning, illustrate how deep learning is the appropriate technique for the application, and make recommendations regarding the selection of parameters for neural networks."
      ]
    },
    {
      "cell_type": "markdown",
      "id": "816221c4-ff84-4408-95a1-82644f316aad",
      "metadata": {
        "id": "816221c4-ff84-4408-95a1-82644f316aad"
      },
      "source": [
        "## 2.0 Data Understanding"
      ]
    },
    {
      "cell_type": "markdown",
      "id": "065f2439-d81b-4a4c-a164-ef02f1d5535f",
      "metadata": {
        "id": "065f2439-d81b-4a4c-a164-ef02f1d5535f"
      },
      "source": [
        "### 2.1 Prelimary data analysis"
      ]
    },
    {
      "cell_type": "markdown",
      "id": "EWAsFD33l16s",
      "metadata": {
        "id": "EWAsFD33l16s"
      },
      "source": [
        "#### 2.1.1 Import libraries"
      ]
    },
    {
      "cell_type": "code",
      "execution_count": 92,
      "id": "bHzhvyWGca31",
      "metadata": {
        "id": "bHzhvyWGca31"
      },
      "outputs": [],
      "source": [
        "import pandas as pd\n",
        "import matplotlib.pyplot as plt\n",
        "import numpy as np\n",
        "import os\n",
        "import warnings\n",
        "import tensorflow as tf\n",
        "\n",
        "%matplotlib inline"
      ]
    },
    {
      "cell_type": "code",
      "execution_count": 93,
      "id": "7Wp7ovjamWf-",
      "metadata": {
        "id": "7Wp7ovjamWf-"
      },
      "outputs": [],
      "source": [
        "from matplotlib import pyplot\n",
        "from keras.datasets import mnist, fashion_mnist, cifar100\n",
        "from keras.models import Sequential\n",
        "from keras.utils import to_categorical, plot_model\n",
        "from keras.layers import Dense , Activation, Dropout, Flatten, Conv2D, MaxPooling2D\n",
        "from keras.constraints import max_norm\n",
        "from keras.optimizers import Adam ,RMSprop\n",
        "from keras import backend as K\n",
        "from subprocess import check_output"
      ]
    },
    {
      "cell_type": "markdown",
      "id": "992e3ae5-d8ba-4a81-985e-378513890492",
      "metadata": {
        "id": "992e3ae5-d8ba-4a81-985e-378513890492"
      },
      "source": [
        "#### 2.1.2 Suppress warnings"
      ]
    },
    {
      "cell_type": "code",
      "execution_count": 94,
      "id": "alownMrNhVFz",
      "metadata": {
        "id": "alownMrNhVFz"
      },
      "outputs": [],
      "source": [
        "warnings.filterwarnings('ignore')"
      ]
    },
    {
      "cell_type": "markdown",
      "id": "01df576b-ec9e-4ca8-9b6a-f2f9f822c4db",
      "metadata": {
        "id": "01df576b-ec9e-4ca8-9b6a-f2f9f822c4db"
      },
      "source": [
        "#### 2.1.3 Data ingestion"
      ]
    },
    {
      "cell_type": "code",
      "execution_count": 95,
      "id": "5aHaGngLmEzh",
      "metadata": {
        "id": "5aHaGngLmEzh"
      },
      "outputs": [],
      "source": [
        "(train_X, train_y), (test_X, test_y) = mnist.load_data()"
      ]
    },
    {
      "cell_type": "code",
      "execution_count": 96,
      "id": "etaxchhrmAYn",
      "metadata": {
        "colab": {
          "base_uri": "https://localhost:8080/"
        },
        "id": "etaxchhrmAYn",
        "outputId": "6d8f5edb-c4bf-421d-9756-d84a7c2f9f98"
      },
      "outputs": [
        {
          "name": "stdout",
          "output_type": "stream",
          "text": [
            "X_train: (60000, 28, 28)\n",
            "Y_train: (60000,)\n",
            "X_test:  (10000, 28, 28)\n",
            "Y_test:  (10000,)\n"
          ]
        }
      ],
      "source": [
        "print('X_train: ' + str(train_X.shape))\n",
        "print('Y_train: ' + str(train_y.shape))\n",
        "print('X_test:  '  + str(test_X.shape))\n",
        "print('Y_test:  '  + str(test_y.shape))"
      ]
    },
    {
      "cell_type": "markdown",
      "id": "Ka9Bz7p0nGUH",
      "metadata": {
        "id": "Ka9Bz7p0nGUH"
      },
      "source": [
        "#### 2.1.4 Set random seed"
      ]
    },
    {
      "cell_type": "code",
      "execution_count": 97,
      "id": "yfhZmB_ljNVz",
      "metadata": {
        "id": "yfhZmB_ljNVz"
      },
      "outputs": [],
      "source": [
        "np.random.seed(42)"
      ]
    },
    {
      "cell_type": "markdown",
      "id": "a821a5fc-3443-43a9-b4e0-152564f36850",
      "metadata": {
        "id": "a821a5fc-3443-43a9-b4e0-152564f36850"
      },
      "source": [
        "### 2.2 Data quality"
      ]
    },
    {
      "cell_type": "markdown",
      "id": "6bf5ae71-b09a-43a4-95cf-0867d7084ee1",
      "metadata": {
        "id": "6bf5ae71-b09a-43a4-95cf-0867d7084ee1"
      },
      "source": [
        "#### 2.2.1 Training data sample images"
      ]
    },
    {
      "cell_type": "code",
      "execution_count": 98,
      "id": "86Znomkjn9Gf",
      "metadata": {
        "colab": {
          "base_uri": "https://localhost:8080/",
          "height": 486
        },
        "id": "86Znomkjn9Gf",
        "outputId": "e87e9529-7b6d-46c3-b5ab-470c9a9fffb6"
      },
      "outputs": [
        {
          "data": {
            "image/png": "[encoded data removed]",
            "text/plain": [
              "<Figure size 640x480 with 9 Axes>"
            ]
          },
          "metadata": {},
          "output_type": "display_data"
        }
      ],
      "source": [
        "for i in range(9):\n",
        "    pyplot.subplot(3, 3, i + 1)\n",
        "    pyplot.imshow(train_X[i], cmap=pyplot.get_cmap('gray'))\n",
        "\n",
        "pyplot.tight_layout()\n",
        "pyplot.show()"
      ]
    },
    {
      "cell_type": "markdown",
      "id": "lNeUNHpKjoNS",
      "metadata": {
        "id": "lNeUNHpKjoNS"
      },
      "source": [
        "#### 2.2.2 Training label data counts"
      ]
    },
    {
      "cell_type": "code",
      "execution_count": 99,
      "id": "ZDnCWOWInv3i",
      "metadata": {
        "colab": {
          "base_uri": "https://localhost:8080/"
        },
        "id": "ZDnCWOWInv3i",
        "outputId": "e045cbeb-16c9-4451-da83-97aaf6588188"
      },
      "outputs": [
        {
          "name": "stdout",
          "output_type": "stream",
          "text": [
            "Train labels:  {np.uint8(0): np.int64(5923), np.uint8(1): np.int64(6742), np.uint8(2): np.int64(5958), np.uint8(3): np.int64(6131), np.uint8(4): np.int64(5842), np.uint8(5): np.int64(5421), np.uint8(6): np.int64(5918), np.uint8(7): np.int64(6265), np.uint8(8): np.int64(5851), np.uint8(9): np.int64(5949)}\n"
          ]
        }
      ],
      "source": [
        "unique, counts = np.unique(train_y, return_counts=True)\n",
        "print(\"Train labels: \", dict(zip(unique, counts)))"
      ]
    },
    {
      "cell_type": "markdown",
      "id": "GFp4c0BTjt8r",
      "metadata": {
        "id": "GFp4c0BTjt8r"
      },
      "source": [
        "#### 2.2.3 Testing label data counts"
      ]
    },
    {
      "cell_type": "code",
      "execution_count": 100,
      "id": "ygUtr0V2nzBF",
      "metadata": {
        "colab": {
          "base_uri": "https://localhost:8080/"
        },
        "id": "ygUtr0V2nzBF",
        "outputId": "e0c022a1-042a-4be8-cb2c-47b3bb8a72d0"
      },
      "outputs": [
        {
          "name": "stdout",
          "output_type": "stream",
          "text": [
            "\n",
            "Test labels:  {np.uint8(0): np.int64(980), np.uint8(1): np.int64(1135), np.uint8(2): np.int64(1032), np.uint8(3): np.int64(1010), np.uint8(4): np.int64(982), np.uint8(5): np.int64(892), np.uint8(6): np.int64(958), np.uint8(7): np.int64(1028), np.uint8(8): np.int64(974), np.uint8(9): np.int64(1009)}\n"
          ]
        }
      ],
      "source": [
        "unique, counts = np.unique(test_y, return_counts=True)\n",
        "print(\"\\nTest labels: \", dict(zip(unique, counts)))"
      ]
    },
    {
      "cell_type": "markdown",
      "id": "GD6kbaEUn9Sf",
      "metadata": {
        "id": "GD6kbaEUn9Sf"
      },
      "source": [
        "#### 2.2.4 Label descriptions"
      ]
    },
    {
      "cell_type": "markdown",
      "id": "nUa7Nl1ooLLR",
      "metadata": {
        "id": "nUa7Nl1ooLLR"
      },
      "source": [
        "* 0\n",
        "* 1\n",
        "* 2\n",
        "* 3\n",
        "* 4\n",
        "* 5\n",
        "* 6\n",
        "* 7\n",
        "* 8\n",
        "* 9"
      ]
    },
    {
      "cell_type": "markdown",
      "id": "_xTda8Uar0bg",
      "metadata": {
        "id": "_xTda8Uar0bg"
      },
      "source": [
        "### 2.3 Exploratory data analysis"
      ]
    },
    {
      "cell_type": "markdown",
      "id": "87e25d4d-b0a0-4c05-93e2-1c69736e860a",
      "metadata": {
        "id": "87e25d4d-b0a0-4c05-93e2-1c69736e860a"
      },
      "source": [
        "## 3.0 Data preprocessing"
      ]
    },
    {
      "cell_type": "markdown",
      "id": "V5ua3mmuoVip",
      "metadata": {
        "id": "V5ua3mmuoVip"
      },
      "source": [
        "### 3.1 Compute the number of labels"
      ]
    },
    {
      "cell_type": "code",
      "execution_count": 101,
      "id": "8vZrPAUgoZSq",
      "metadata": {
        "colab": {
          "base_uri": "https://localhost:8080/"
        },
        "id": "8vZrPAUgoZSq",
        "outputId": "39a8780c-6410-478f-fa43-87a796f30658"
      },
      "outputs": [
        {
          "data": {
            "text/plain": [
              "10"
            ]
          },
          "execution_count": 101,
          "metadata": {},
          "output_type": "execute_result"
        }
      ],
      "source": [
        "num_labels = len(np.unique(train_y))\n",
        "num_labels"
      ]
    },
    {
      "cell_type": "markdown",
      "id": "i0h_EZrboeyX",
      "metadata": {
        "id": "i0h_EZrboeyX"
      },
      "source": [
        "### 3.2 Encode output data"
      ]
    },
    {
      "cell_type": "code",
      "execution_count": 102,
      "id": "Jpsh4b3_olkT",
      "metadata": {
        "id": "Jpsh4b3_olkT"
      },
      "outputs": [],
      "source": [
        "train_y = to_categorical(train_y)\n",
        "test_y = to_categorical(test_y)"
      ]
    },
    {
      "cell_type": "markdown",
      "id": "R4ocNP_so-ft",
      "metadata": {
        "id": "R4ocNP_so-ft"
      },
      "source": [
        "### 3.3 Image dimensions"
      ]
    },
    {
      "cell_type": "code",
      "execution_count": 103,
      "id": "rohFsqMGpCj1",
      "metadata": {
        "colab": {
          "base_uri": "https://localhost:8080/"
        },
        "id": "rohFsqMGpCj1",
        "outputId": "abcc342d-d760-412c-e6fe-2f37ae3d0528"
      },
      "outputs": [
        {
          "data": {
            "text/plain": [
              "784"
            ]
          },
          "execution_count": 103,
          "metadata": {},
          "output_type": "execute_result"
        }
      ],
      "source": [
        "image_size = train_X.shape[1]\n",
        "input_size = image_size * image_size\n",
        "input_size"
      ]
    },
    {
      "cell_type": "code",
      "execution_count": 104,
      "id": "iu0BJ9M3pOEq",
      "metadata": {
        "id": "iu0BJ9M3pOEq"
      },
      "outputs": [],
      "source": [
        "train_X = np.expand_dims(train_X, axis=-1)"
      ]
    },
    {
      "cell_type": "markdown",
      "id": "MGoQtug3pYVV",
      "metadata": {
        "id": "MGoQtug3pYVV"
      },
      "source": [
        "### 3.4 Number of classes"
      ]
    },
    {
      "cell_type": "code",
      "execution_count": 105,
      "id": "YmvzldbSpcto",
      "metadata": {
        "id": "YmvzldbSpcto"
      },
      "outputs": [],
      "source": [
        "num_classes = test_y.shape[1]"
      ]
    },
    {
      "cell_type": "markdown",
      "id": "s4nSLQdRpnu5",
      "metadata": {
        "id": "s4nSLQdRpnu5"
      },
      "source": [
        "### 3.5 Resize and normalize data"
      ]
    },
    {
      "cell_type": "markdown",
      "id": "gWpb0K-Fpz5d",
      "metadata": {
        "id": "gWpb0K-Fpz5d"
      },
      "source": [
        "#### 3.5.1 Training data"
      ]
    },
    {
      "cell_type": "code",
      "execution_count": 106,
      "id": "xjPQM5-np9ky",
      "metadata": {
        "id": "xjPQM5-np9ky"
      },
      "outputs": [],
      "source": [
        "train_X1 = np.reshape(train_X, [-1, input_size])\n",
        "train_X1 = train_X1.astype('float32') / 255\n",
        "train_X = train_X.astype('float32') / 255"
      ]
    },
    {
      "cell_type": "code",
      "execution_count": 107,
      "id": "2IYisG8hqBEn",
      "metadata": {
        "colab": {
          "base_uri": "https://localhost:8080/"
        },
        "id": "2IYisG8hqBEn",
        "outputId": "424a4472-8df3-4a28-944b-1dfb862bccbf"
      },
      "outputs": [
        {
          "name": "stdout",
          "output_type": "stream",
          "text": [
            "X1_train: (60000, 784)\n",
            "X_train: (60000, 28, 28, 1)\n",
            "Y_train: (60000, 10)\n"
          ]
        }
      ],
      "source": [
        "print('X1_train: ' + str(train_X1.shape))\n",
        "print('X_train: ' + str(train_X.shape))\n",
        "print('Y_train: ' + str(train_y.shape))"
      ]
    },
    {
      "cell_type": "markdown",
      "id": "yYmU96jup7Fb",
      "metadata": {
        "id": "yYmU96jup7Fb"
      },
      "source": [
        "#### 3.5.2 Testing data"
      ]
    },
    {
      "cell_type": "code",
      "execution_count": 108,
      "id": "7fFnhUpKqWFf",
      "metadata": {
        "id": "7fFnhUpKqWFf"
      },
      "outputs": [],
      "source": [
        "test_X1 = np.reshape(test_X, [-1, input_size])\n",
        "test_X1 = test_X1.astype('float32') / 255\n",
        "test_X = test_X.astype('float32') / 255"
      ]
    },
    {
      "cell_type": "code",
      "execution_count": 109,
      "id": "mdiFCTAtqZEv",
      "metadata": {
        "colab": {
          "base_uri": "https://localhost:8080/"
        },
        "id": "mdiFCTAtqZEv",
        "outputId": "2ab1d599-5816-4e2e-ed5b-9b9cbce339ac"
      },
      "outputs": [
        {
          "name": "stdout",
          "output_type": "stream",
          "text": [
            "X1_test:  (10000, 784)\n",
            "X_test:  (10000, 28, 28)\n",
            "Y_test:  (10000, 10)\n"
          ]
        }
      ],
      "source": [
        "print('X1_test:  '  + str(test_X1.shape))\n",
        "print('X_test:  '  + str(test_X.shape))\n",
        "print('Y_test:  '  + str(test_y.shape))"
      ]
    },
    {
      "cell_type": "markdown",
      "id": "fLeS4LDaINCP",
      "metadata": {
        "id": "fLeS4LDaINCP"
      },
      "source": [
        "### 4.0 Modeling"
      ]
    },
    {
      "cell_type": "markdown",
      "id": "yRVvuH2OrToX",
      "metadata": {
        "id": "yRVvuH2OrToX"
      },
      "source": [
        "### 4.1 Batch size for neural network model"
      ]
    },
    {
      "cell_type": "code",
      "execution_count": 110,
      "id": "GSNg75p_qjBW",
      "metadata": {
        "id": "GSNg75p_qjBW"
      },
      "outputs": [],
      "source": [
        "batch_size = 128\n",
        "input_dim = 784\n",
        "epochs = 20"
      ]
    },
    {
      "cell_type": "markdown",
      "id": "xW9ssYG2qqVb",
      "metadata": {
        "id": "xW9ssYG2qqVb"
      },
      "source": [
        "### 4.2 Configure the neural network model"
      ]
    },
    {
      "cell_type": "code",
      "execution_count": 111,
      "id": "LuMPd56pzTl_",
      "metadata": {
        "id": "LuMPd56pzTl_"
      },
      "outputs": [],
      "source": [
        "def build_mlp(input_dim, num_classes, dropout_rates=[0.5, 0.3, 0.2]):\n",
        "    model = Sequential()\n",
        "    model.add(Dense(512, input_shape=(input_dim,), activation='relu', kernel_constraint=max_norm(3)))\n",
        "    model.add(Dropout(dropout_rates[0]))\n",
        "    model.add(Dense(256, activation='relu', kernel_constraint=max_norm(3)))\n",
        "    model.add(Dropout(dropout_rates[1]))\n",
        "    model.add(Dense(128, activation='relu', kernel_constraint=max_norm(3)))\n",
        "    model.add(Dropout(dropout_rates[2]))\n",
        "    model.add(Dense(num_classes, activation='softmax'))\n",
        "    return model"
      ]
    },
    {
      "cell_type": "code",
      "execution_count": 112,
      "id": "I2Tky9kv0IQB",
      "metadata": {
        "id": "I2Tky9kv0IQB"
      },
      "outputs": [],
      "source": [
        "model = build_mlp(input_dim=input_dim, num_classes=num_classes)"
      ]
    },
    {
      "cell_type": "code",
      "execution_count": 113,
      "id": "BuMWEsnjsTeF",
      "metadata": {
        "colab": {
          "base_uri": "https://localhost:8080/",
          "height": 381
        },
        "id": "BuMWEsnjsTeF",
        "outputId": "40dc5362-77be-48a5-94ba-00370c24fc44"
      },
      "outputs": [
        {
          "data": {
            "text/html": [
              "<pre style=\"white-space:pre;overflow-x:auto;line-height:normal;font-family:Menlo,'DejaVu Sans Mono',consolas,'Courier New',monospace\"><span style=\"font-weight: bold\">Model: \"sequential_5\"</span>\n",
              "</pre>\n"
            ],
            "text/plain": [
              "\u001b[1mModel: \"sequential_5\"\u001b[0m\n"
            ]
          },
          "metadata": {},
          "output_type": "display_data"
        },
        {
          "data": {
            "text/html": [
              "<pre style=\"white-space:pre;overflow-x:auto;line-height:normal;font-family:Menlo,'DejaVu Sans Mono',consolas,'Courier New',monospace\">┏━━━━━━━━━━━━━━━━━━━━━━━━━━━━━━━━━┳━━━━━━━━━━━━━━━━━━━━━━━━┳━━━━━━━━━━━━━━━┓\n",
              "┃<span style=\"font-weight: bold\"> Layer (type)                    </span>┃<span style=\"font-weight: bold\"> Output Shape           </span>┃<span style=\"font-weight: bold\">       Param # </span>┃\n",
              "┡━━━━━━━━━━━━━━━━━━━━━━━━━━━━━━━━━╇━━━━━━━━━━━━━━━━━━━━━━━━╇━━━━━━━━━━━━━━━┩\n",
              "│ dense_16 (<span style=\"color: #0087ff; text-decoration-color: #0087ff\">Dense</span>)                │ (<span style=\"color: #00d7ff; text-decoration-color: #00d7ff\">None</span>, <span style=\"color: #00af00; text-decoration-color: #00af00\">512</span>)            │       <span style=\"color: #00af00; text-decoration-color: #00af00\">401,920</span> │\n",
              "├─────────────────────────────────┼────────────────────────┼───────────────┤\n",
              "│ dropout_12 (<span style=\"color: #0087ff; text-decoration-color: #0087ff\">Dropout</span>)            │ (<span style=\"color: #00d7ff; text-decoration-color: #00d7ff\">None</span>, <span style=\"color: #00af00; text-decoration-color: #00af00\">512</span>)            │             <span style=\"color: #00af00; text-decoration-color: #00af00\">0</span> │\n",
              "├─────────────────────────────────┼────────────────────────┼───────────────┤\n",
              "│ dense_17 (<span style=\"color: #0087ff; text-decoration-color: #0087ff\">Dense</span>)                │ (<span style=\"color: #00d7ff; text-decoration-color: #00d7ff\">None</span>, <span style=\"color: #00af00; text-decoration-color: #00af00\">256</span>)            │       <span style=\"color: #00af00; text-decoration-color: #00af00\">131,328</span> │\n",
              "├─────────────────────────────────┼────────────────────────┼───────────────┤\n",
              "│ dropout_13 (<span style=\"color: #0087ff; text-decoration-color: #0087ff\">Dropout</span>)            │ (<span style=\"color: #00d7ff; text-decoration-color: #00d7ff\">None</span>, <span style=\"color: #00af00; text-decoration-color: #00af00\">256</span>)            │             <span style=\"color: #00af00; text-decoration-color: #00af00\">0</span> │\n",
              "├─────────────────────────────────┼────────────────────────┼───────────────┤\n",
              "│ dense_18 (<span style=\"color: #0087ff; text-decoration-color: #0087ff\">Dense</span>)                │ (<span style=\"color: #00d7ff; text-decoration-color: #00d7ff\">None</span>, <span style=\"color: #00af00; text-decoration-color: #00af00\">128</span>)            │        <span style=\"color: #00af00; text-decoration-color: #00af00\">32,896</span> │\n",
              "├─────────────────────────────────┼────────────────────────┼───────────────┤\n",
              "│ dropout_14 (<span style=\"color: #0087ff; text-decoration-color: #0087ff\">Dropout</span>)            │ (<span style=\"color: #00d7ff; text-decoration-color: #00d7ff\">None</span>, <span style=\"color: #00af00; text-decoration-color: #00af00\">128</span>)            │             <span style=\"color: #00af00; text-decoration-color: #00af00\">0</span> │\n",
              "├─────────────────────────────────┼────────────────────────┼───────────────┤\n",
              "│ dense_19 (<span style=\"color: #0087ff; text-decoration-color: #0087ff\">Dense</span>)                │ (<span style=\"color: #00d7ff; text-decoration-color: #00d7ff\">None</span>, <span style=\"color: #00af00; text-decoration-color: #00af00\">10</span>)             │         <span style=\"color: #00af00; text-decoration-color: #00af00\">1,290</span> │\n",
              "└─────────────────────────────────┴────────────────────────┴───────────────┘\n",
              "</pre>\n"
            ],
            "text/plain": [
              "┏━━━━━━━━━━━━━━━━━━━━━━━━━━━━━━━━━┳━━━━━━━━━━━━━━━━━━━━━━━━┳━━━━━━━━━━━━━━━┓\n",
              "┃\u001b[1m \u001b[0m\u001b[1mLayer (type)                   \u001b[0m\u001b[1m \u001b[0m┃\u001b[1m \u001b[0m\u001b[1mOutput Shape          \u001b[0m\u001b[1m \u001b[0m┃\u001b[1m \u001b[0m\u001b[1m      Param #\u001b[0m\u001b[1m \u001b[0m┃\n",
              "┡━━━━━━━━━━━━━━━━━━━━━━━━━━━━━━━━━╇━━━━━━━━━━━━━━━━━━━━━━━━╇━━━━━━━━━━━━━━━┩\n",
              "│ dense_16 (\u001b[38;5;33mDense\u001b[0m)                │ (\u001b[38;5;45mNone\u001b[0m, \u001b[38;5;34m512\u001b[0m)            │       \u001b[38;5;34m401,920\u001b[0m │\n",
              "├─────────────────────────────────┼────────────────────────┼───────────────┤\n",
              "│ dropout_12 (\u001b[38;5;33mDropout\u001b[0m)            │ (\u001b[38;5;45mNone\u001b[0m, \u001b[38;5;34m512\u001b[0m)            │             \u001b[38;5;34m0\u001b[0m │\n",
              "├─────────────────────────────────┼────────────────────────┼───────────────┤\n",
              "│ dense_17 (\u001b[38;5;33mDense\u001b[0m)                │ (\u001b[38;5;45mNone\u001b[0m, \u001b[38;5;34m256\u001b[0m)            │       \u001b[38;5;34m131,328\u001b[0m │\n",
              "├─────────────────────────────────┼────────────────────────┼───────────────┤\n",
              "│ dropout_13 (\u001b[38;5;33mDropout\u001b[0m)            │ (\u001b[38;5;45mNone\u001b[0m, \u001b[38;5;34m256\u001b[0m)            │             \u001b[38;5;34m0\u001b[0m │\n",
              "├─────────────────────────────────┼────────────────────────┼───────────────┤\n",
              "│ dense_18 (\u001b[38;5;33mDense\u001b[0m)                │ (\u001b[38;5;45mNone\u001b[0m, \u001b[38;5;34m128\u001b[0m)            │        \u001b[38;5;34m32,896\u001b[0m │\n",
              "├─────────────────────────────────┼────────────────────────┼───────────────┤\n",
              "│ dropout_14 (\u001b[38;5;33mDropout\u001b[0m)            │ (\u001b[38;5;45mNone\u001b[0m, \u001b[38;5;34m128\u001b[0m)            │             \u001b[38;5;34m0\u001b[0m │\n",
              "├─────────────────────────────────┼────────────────────────┼───────────────┤\n",
              "│ dense_19 (\u001b[38;5;33mDense\u001b[0m)                │ (\u001b[38;5;45mNone\u001b[0m, \u001b[38;5;34m10\u001b[0m)             │         \u001b[38;5;34m1,290\u001b[0m │\n",
              "└─────────────────────────────────┴────────────────────────┴───────────────┘\n"
            ]
          },
          "metadata": {},
          "output_type": "display_data"
        },
        {
          "data": {
            "text/html": [
              "<pre style=\"white-space:pre;overflow-x:auto;line-height:normal;font-family:Menlo,'DejaVu Sans Mono',consolas,'Courier New',monospace\"><span style=\"font-weight: bold\"> Total params: </span><span style=\"color: #00af00; text-decoration-color: #00af00\">567,434</span> (2.16 MB)\n",
              "</pre>\n"
            ],
            "text/plain": [
              "\u001b[1m Total params: \u001b[0m\u001b[38;5;34m567,434\u001b[0m (2.16 MB)\n"
            ]
          },
          "metadata": {},
          "output_type": "display_data"
        },
        {
          "data": {
            "text/html": [
              "<pre style=\"white-space:pre;overflow-x:auto;line-height:normal;font-family:Menlo,'DejaVu Sans Mono',consolas,'Courier New',monospace\"><span style=\"font-weight: bold\"> Trainable params: </span><span style=\"color: #00af00; text-decoration-color: #00af00\">567,434</span> (2.16 MB)\n",
              "</pre>\n"
            ],
            "text/plain": [
              "\u001b[1m Trainable params: \u001b[0m\u001b[38;5;34m567,434\u001b[0m (2.16 MB)\n"
            ]
          },
          "metadata": {},
          "output_type": "display_data"
        },
        {
          "data": {
            "text/html": [
              "<pre style=\"white-space:pre;overflow-x:auto;line-height:normal;font-family:Menlo,'DejaVu Sans Mono',consolas,'Courier New',monospace\"><span style=\"font-weight: bold\"> Non-trainable params: </span><span style=\"color: #00af00; text-decoration-color: #00af00\">0</span> (0.00 B)\n",
              "</pre>\n"
            ],
            "text/plain": [
              "\u001b[1m Non-trainable params: \u001b[0m\u001b[38;5;34m0\u001b[0m (0.00 B)\n"
            ]
          },
          "metadata": {},
          "output_type": "display_data"
        }
      ],
      "source": [
        "model.summary()"
      ]
    },
    {
      "cell_type": "code",
      "execution_count": 114,
      "id": "S6M0FzT-sdnd",
      "metadata": {
        "colab": {
          "base_uri": "https://localhost:8080/",
          "height": 964
        },
        "id": "S6M0FzT-sdnd",
        "outputId": "b7e01250-ce5a-4031-bfb0-71cba489df7d"
      },
      "outputs": [
        {
          "data": {
            "image/png": "[encoded data removed]",
            "text/plain": [
              "<IPython.core.display.Image object>"
            ]
          },
          "execution_count": 114,
          "metadata": {},
          "output_type": "execute_result"
        }
      ],
      "source": [
        "plot_model(model, to_file='mlp-fashion-mnist-deep.png', show_shapes=True, dpi=84)"
      ]
    },
    {
      "cell_type": "markdown",
      "id": "nhKhJxhPrF0j",
      "metadata": {
        "id": "nhKhJxhPrF0j"
      },
      "source": [
        "### 4.3 Compile the neural network model"
      ]
    },
    {
      "cell_type": "code",
      "execution_count": 115,
      "id": "5Seagk6bsuaO",
      "metadata": {
        "id": "5Seagk6bsuaO"
      },
      "outputs": [],
      "source": [
        "model.compile(loss='categorical_crossentropy',\n",
        "              optimizer='adam',\n",
        "              metrics=['accuracy'])"
      ]
    },
    {
      "cell_type": "markdown",
      "id": "MwpW1hocswti",
      "metadata": {
        "id": "MwpW1hocswti"
      },
      "source": [
        "### 4.4 Fit the neural network model"
      ]
    },
    {
      "cell_type": "code",
      "execution_count": 116,
      "id": "LzXx1qFatFIA",
      "metadata": {
        "colab": {
          "base_uri": "https://localhost:8080/"
        },
        "id": "LzXx1qFatFIA",
        "outputId": "db5dd82c-e0a2-407c-8fe7-98cb3544ffa8"
      },
      "outputs": [
        {
          "name": "stdout",
          "output_type": "stream",
          "text": [
            "Epoch 1/20\n",
            "\u001b[1m375/375\u001b[0m \u001b[32m━━━━━━━━━━━━━━━━━━━━\u001b[0m\u001b[37m\u001b[0m \u001b[1m8s\u001b[0m 17ms/step - accuracy: 0.7576 - loss: 0.7507 - val_accuracy: 0.9583 - val_loss: 0.1450\n",
            "Epoch 2/20\n",
            "\u001b[1m375/375\u001b[0m \u001b[32m━━━━━━━━━━━━━━━━━━━━\u001b[0m\u001b[37m\u001b[0m \u001b[1m10s\u001b[0m 16ms/step - accuracy: 0.9374 - loss: 0.2069 - val_accuracy: 0.9694 - val_loss: 0.1070\n",
            "Epoch 3/20\n",
            "\u001b[1m375/375\u001b[0m \u001b[32m━━━━━━━━━━━━━━━━━━━━\u001b[0m\u001b[37m\u001b[0m \u001b[1m10s\u001b[0m 16ms/step - accuracy: 0.9553 - loss: 0.1482 - val_accuracy: 0.9708 - val_loss: 0.0955\n",
            "Epoch 4/20\n",
            "\u001b[1m375/375\u001b[0m \u001b[32m━━━━━━━━━━━━━━━━━━━━\u001b[0m\u001b[37m\u001b[0m \u001b[1m10s\u001b[0m 16ms/step - accuracy: 0.9619 - loss: 0.1297 - val_accuracy: 0.9754 - val_loss: 0.0882\n",
            "Epoch 5/20\n",
            "\u001b[1m375/375\u001b[0m \u001b[32m━━━━━━━━━━━━━━━━━━━━\u001b[0m\u001b[37m\u001b[0m \u001b[1m11s\u001b[0m 18ms/step - accuracy: 0.9660 - loss: 0.1101 - val_accuracy: 0.9752 - val_loss: 0.0905\n",
            "Epoch 6/20\n",
            "\u001b[1m375/375\u001b[0m \u001b[32m━━━━━━━━━━━━━━━━━━━━\u001b[0m\u001b[37m\u001b[0m \u001b[1m6s\u001b[0m 16ms/step - accuracy: 0.9712 - loss: 0.0949 - val_accuracy: 0.9771 - val_loss: 0.0802\n",
            "Epoch 7/20\n",
            "\u001b[1m375/375\u001b[0m \u001b[32m━━━━━━━━━━━━━━━━━━━━\u001b[0m\u001b[37m\u001b[0m \u001b[1m10s\u001b[0m 15ms/step - accuracy: 0.9723 - loss: 0.0894 - val_accuracy: 0.9772 - val_loss: 0.0831\n",
            "Epoch 8/20\n",
            "\u001b[1m375/375\u001b[0m \u001b[32m━━━━━━━━━━━━━━━━━━━━\u001b[0m\u001b[37m\u001b[0m \u001b[1m7s\u001b[0m 18ms/step - accuracy: 0.9738 - loss: 0.0837 - val_accuracy: 0.9783 - val_loss: 0.0734\n",
            "Epoch 9/20\n",
            "\u001b[1m375/375\u001b[0m \u001b[32m━━━━━━━━━━━━━━━━━━━━\u001b[0m\u001b[37m\u001b[0m \u001b[1m6s\u001b[0m 15ms/step - accuracy: 0.9780 - loss: 0.0734 - val_accuracy: 0.9783 - val_loss: 0.0771\n",
            "Epoch 10/20\n",
            "\u001b[1m375/375\u001b[0m \u001b[32m━━━━━━━━━━━━━━━━━━━━\u001b[0m\u001b[37m\u001b[0m \u001b[1m7s\u001b[0m 18ms/step - accuracy: 0.9784 - loss: 0.0730 - val_accuracy: 0.9775 - val_loss: 0.0761\n",
            "Epoch 11/20\n",
            "\u001b[1m375/375\u001b[0m \u001b[32m━━━━━━━━━━━━━━━━━━━━\u001b[0m\u001b[37m\u001b[0m \u001b[1m6s\u001b[0m 16ms/step - accuracy: 0.9790 - loss: 0.0672 - val_accuracy: 0.9794 - val_loss: 0.0756\n",
            "Epoch 12/20\n",
            "\u001b[1m375/375\u001b[0m \u001b[32m━━━━━━━━━━━━━━━━━━━━\u001b[0m\u001b[37m\u001b[0m \u001b[1m7s\u001b[0m 18ms/step - accuracy: 0.9817 - loss: 0.0599 - val_accuracy: 0.9778 - val_loss: 0.0772\n",
            "Epoch 13/20\n",
            "\u001b[1m375/375\u001b[0m \u001b[32m━━━━━━━━━━━━━━━━━━━━\u001b[0m\u001b[37m\u001b[0m \u001b[1m6s\u001b[0m 16ms/step - accuracy: 0.9819 - loss: 0.0602 - val_accuracy: 0.9791 - val_loss: 0.0767\n",
            "Epoch 14/20\n",
            "\u001b[1m375/375\u001b[0m \u001b[32m━━━━━━━━━━━━━━━━━━━━\u001b[0m\u001b[37m\u001b[0m \u001b[1m7s\u001b[0m 18ms/step - accuracy: 0.9818 - loss: 0.0607 - val_accuracy: 0.9789 - val_loss: 0.0760\n",
            "Epoch 15/20\n",
            "\u001b[1m375/375\u001b[0m \u001b[32m━━━━━━━━━━━━━━━━━━━━\u001b[0m\u001b[37m\u001b[0m \u001b[1m6s\u001b[0m 15ms/step - accuracy: 0.9825 - loss: 0.0559 - val_accuracy: 0.9803 - val_loss: 0.0691\n",
            "Epoch 16/20\n",
            "\u001b[1m375/375\u001b[0m \u001b[32m━━━━━━━━━━━━━━━━━━━━\u001b[0m\u001b[37m\u001b[0m \u001b[1m7s\u001b[0m 18ms/step - accuracy: 0.9842 - loss: 0.0509 - val_accuracy: 0.9804 - val_loss: 0.0739\n",
            "Epoch 17/20\n",
            "\u001b[1m375/375\u001b[0m \u001b[32m━━━━━━━━━━━━━━━━━━━━\u001b[0m\u001b[37m\u001b[0m \u001b[1m6s\u001b[0m 15ms/step - accuracy: 0.9838 - loss: 0.0517 - val_accuracy: 0.9802 - val_loss: 0.0750\n",
            "Epoch 18/20\n",
            "\u001b[1m375/375\u001b[0m \u001b[32m━━━━━━━━━━━━━━━━━━━━\u001b[0m\u001b[37m\u001b[0m \u001b[1m10s\u001b[0m 15ms/step - accuracy: 0.9861 - loss: 0.0450 - val_accuracy: 0.9807 - val_loss: 0.0765\n",
            "Epoch 19/20\n",
            "\u001b[1m375/375\u001b[0m \u001b[32m━━━━━━━━━━━━━━━━━━━━\u001b[0m\u001b[37m\u001b[0m \u001b[1m7s\u001b[0m 18ms/step - accuracy: 0.9847 - loss: 0.0475 - val_accuracy: 0.9809 - val_loss: 0.0760\n",
            "Epoch 20/20\n",
            "\u001b[1m375/375\u001b[0m \u001b[32m━━━━━━━━━━━━━━━━━━━━\u001b[0m\u001b[37m\u001b[0m \u001b[1m9s\u001b[0m 15ms/step - accuracy: 0.9863 - loss: 0.0456 - val_accuracy: 0.9806 - val_loss: 0.0734\n"
          ]
        }
      ],
      "source": [
        "history = model.fit(train_X1, train_y, epochs=epochs, batch_size=batch_size, validation_split=0.2)"
      ]
    },
    {
      "cell_type": "markdown",
      "id": "c2c8e434-cb5a-45df-886e-7155311952ae",
      "metadata": {
        "id": "c2c8e434-cb5a-45df-886e-7155311952ae"
      },
      "source": [
        "## 5.0 Evaluation"
      ]
    },
    {
      "cell_type": "code",
      "execution_count": 117,
      "id": "P4ngmd7BtaKQ",
      "metadata": {
        "colab": {
          "base_uri": "https://localhost:8080/"
        },
        "id": "P4ngmd7BtaKQ",
        "outputId": "07238ede-a4c7-49cf-855c-692b419b4be0"
      },
      "outputs": [
        {
          "name": "stdout",
          "output_type": "stream",
          "text": [
            "\u001b[1m79/79\u001b[0m \u001b[32m━━━━━━━━━━━━━━━━━━━━\u001b[0m\u001b[37m\u001b[0m \u001b[1m0s\u001b[0m 5ms/step - accuracy: 0.9791 - loss: 0.0736\n",
            "\n",
            "Test accuracy: 98.2%\n"
          ]
        }
      ],
      "source": [
        "loss, acc = model.evaluate(test_X1, test_y, batch_size=batch_size)\n",
        "print(\"\\nTest accuracy: %.1f%%\" % (100.0 * acc))"
      ]
    },
    {
      "cell_type": "code",
      "execution_count": 118,
      "id": "9qxUP3kix7LW",
      "metadata": {
        "colab": {
          "base_uri": "https://localhost:8080/",
          "height": 472
        },
        "id": "9qxUP3kix7LW",
        "outputId": "0bf63682-0325-4bfe-af90-80b234111a72"
      },
      "outputs": [
        {
          "data": {
            "image/png": "[encoded data removed]",
            "text/plain": [
              "<Figure size 640x480 with 1 Axes>"
            ]
          },
          "metadata": {},
          "output_type": "display_data"
        }
      ],
      "source": [
        "plt.plot(history.history['accuracy'])\n",
        "plt.plot(history.history['val_accuracy'])\n",
        "plt.title('Model Accuracy')\n",
        "plt.xlabel('Epoch')\n",
        "plt.ylabel('Accuracy')\n",
        "plt.legend(['Train','Test'],loc='upper left')\n",
        "plt.show()"
      ]
    },
    {
      "cell_type": "code",
      "execution_count": 119,
      "id": "b9yGvBQnx_b4",
      "metadata": {
        "colab": {
          "base_uri": "https://localhost:8080/",
          "height": 472
        },
        "id": "b9yGvBQnx_b4",
        "outputId": "d555dfcd-c1e0-44cb-cea1-3634ec23f746"
      },
      "outputs": [
        {
          "data": {
            "image/png": "[encoded data removed]",
            "text/plain": [
              "<Figure size 640x480 with 1 Axes>"
            ]
          },
          "metadata": {},
          "output_type": "display_data"
        }
      ],
      "source": [
        "plt.plot(history.history['loss'])\n",
        "plt.plot(history.history['val_loss'])\n",
        "plt.title('Model Loss')\n",
        "plt.xlabel('Epoch')\n",
        "plt.ylabel('Loss')\n",
        "plt.legend(['Train','Test'],loc='upper right')\n",
        "plt.show()"
      ]
    },
    {
      "cell_type": "markdown",
      "id": "1413d4ee-7226-4635-a145-696c89266523",
      "metadata": {
        "id": "1413d4ee-7226-4635-a145-696c89266523"
      },
      "source": [
        "## 6.0 Deployment"
      ]
    },
    {
      "cell_type": "code",
      "execution_count": 119,
      "id": "s0e0s38MhYce",
      "metadata": {
        "id": "s0e0s38MhYce"
      },
      "outputs": [],
      "source": [
        "# Xsubmission_df = pd.read_csv('/kaggle/input/Kannada-MNIST/test.csv')"
      ]
    },
    {
      "cell_type": "code",
      "execution_count": null,
      "id": "-oaCAHm76er5",
      "metadata": {
        "id": "-oaCAHm76er5"
      },
      "outputs": [],
      "source": [
        "# X_submission_test = Xsubmission_df.drop(columns=['id']).values"
      ]
    },
    {
      "cell_type": "code",
      "execution_count": null,
      "id": "LvItBS8_6h6Q",
      "metadata": {
        "id": "LvItBS8_6h6Q"
      },
      "outputs": [],
      "source": [
        "# X_submission_test_reshaped = X_submission_test.reshape(-1, 28, 28, 1)"
      ]
    },
    {
      "cell_type": "code",
      "execution_count": null,
      "id": "BlrZX_oi6pJ1",
      "metadata": {
        "id": "BlrZX_oi6pJ1"
      },
      "outputs": [],
      "source": [
        "# predictions = model.predict(X_submission_test_reshaped)"
      ]
    },
    {
      "cell_type": "code",
      "execution_count": null,
      "id": "1a8jJwmD6sxA",
      "metadata": {
        "id": "1a8jJwmD6sxA"
      },
      "outputs": [],
      "source": [
        "'''\n",
        "submission_df = pd.DataFrame(data={\n",
        "    \"id\": Xsubmission_df['id'],\n",
        "    \"label\": np.argmax(predictions, axis=1)\n",
        "})\n",
        "'''"
      ]
    },
    {
      "cell_type": "code",
      "execution_count": null,
      "id": "lLjk33Dq6uz3",
      "metadata": {
        "id": "lLjk33Dq6uz3"
      },
      "outputs": [],
      "source": [
        "# submission_df.to_csv('submission.csv', index=False)"
      ]
    }
  ],
  "metadata": {
    "colab": {
      "provenance": []
    },
    "kernelspec": {
      "display_name": "Python 3 (ipykernel)",
      "language": "python",
      "name": "python3"
    },
    "language_info": {
      "codemirror_mode": {
        "name": "ipython",
        "version": 3
      },
      "file_extension": ".py",
      "mimetype": "text/x-python",
      "name": "python",
      "nbconvert_exporter": "python",
      "pygments_lexer": "ipython3",
      "version": "3.12.3"
    }
  },
  "nbformat": 4,
  "nbformat_minor": 5
}
